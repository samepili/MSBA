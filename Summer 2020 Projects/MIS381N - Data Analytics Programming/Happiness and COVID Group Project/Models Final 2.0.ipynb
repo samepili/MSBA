{
 "cells": [
  {
   "cell_type": "code",
   "execution_count": 1,
   "metadata": {
    "colab": {
     "base_uri": "https://localhost:8080/",
     "height": 35
    },
    "colab_type": "code",
    "executionInfo": {
     "elapsed": 1710,
     "status": "ok",
     "timestamp": 1597097581853,
     "user": {
      "displayName": "Samir Epili",
      "photoUrl": "",
      "userId": "17793813043662774071"
     },
     "user_tz": 300
    },
    "id": "_UWmskfq4eMa",
    "outputId": "5914109f-4a0b-4716-c8b6-f447f492021e"
   },
   "outputs": [
    {
     "name": "stdout",
     "output_type": "stream",
     "text": [
      "Populating the interactive namespace from numpy and matplotlib\n"
     ]
    }
   ],
   "source": [
    "from pandas import Series, DataFrame\n",
    "import pandas as pd\n",
    "import os\n",
    "os.environ[\"PATH\"] += os.pathsep + 'C:/Users/samir/Anaconda3/pkgs/graphviz-2.38-hfd603c8_2/Library/bin'\n",
    "import graphviz\n",
    "%pylab inline"
   ]
  },
  {
   "cell_type": "code",
   "execution_count": 2,
   "metadata": {
    "colab": {
     "base_uri": "https://localhost:8080/",
     "height": 72
    },
    "colab_type": "code",
    "executionInfo": {
     "elapsed": 3320,
     "status": "ok",
     "timestamp": 1597097583708,
     "user": {
      "displayName": "Samir Epili",
      "photoUrl": "",
      "userId": "17793813043662774071"
     },
     "user_tz": 300
    },
    "id": "jScadgH_3iu9",
    "outputId": "a34854db-473d-44b8-abb9-abe77a6347d1"
   },
   "outputs": [],
   "source": [
    "# Special packages\n",
    "import statsmodels.api as sm\n",
    "from patsy import dmatrices\n",
    "from datetime import datetime"
   ]
  },
  {
   "cell_type": "code",
   "execution_count": 3,
   "metadata": {
    "colab": {
     "base_uri": "https://localhost:8080/",
     "height": 453
    },
    "colab_type": "code",
    "executionInfo": {
     "elapsed": 3300,
     "status": "ok",
     "timestamp": 1597097583710,
     "user": {
      "displayName": "Samir Epili",
      "photoUrl": "",
      "userId": "17793813043662774071"
     },
     "user_tz": 300
    },
    "id": "pP14MSPH3lME",
    "outputId": "a89faeb4-6d62-4a7f-998d-c06eaf9e38bc"
   },
   "outputs": [
    {
     "data": {
      "text/html": [
       "<div>\n",
       "<style scoped>\n",
       "    .dataframe tbody tr th:only-of-type {\n",
       "        vertical-align: middle;\n",
       "    }\n",
       "\n",
       "    .dataframe tbody tr th {\n",
       "        vertical-align: top;\n",
       "    }\n",
       "\n",
       "    .dataframe thead th {\n",
       "        text-align: right;\n",
       "    }\n",
       "</style>\n",
       "<table border=\"1\" class=\"dataframe\">\n",
       "  <thead>\n",
       "    <tr style=\"text-align: right;\">\n",
       "      <th></th>\n",
       "      <th>Country_name</th>\n",
       "      <th>Regional_indicator</th>\n",
       "      <th>Ladder_score</th>\n",
       "      <th>Standard_error_of_ladder_score</th>\n",
       "      <th>upperwhisker</th>\n",
       "      <th>lowerwhisker</th>\n",
       "      <th>Logged_GDP_per_capita</th>\n",
       "      <th>Social_support</th>\n",
       "      <th>Healthy_life_expectancy</th>\n",
       "      <th>Freedom_to_make_life_choices</th>\n",
       "      <th>Generosity</th>\n",
       "      <th>Perceptions_of_corruption</th>\n",
       "      <th>Ladder_score_in_Dystopia</th>\n",
       "      <th>Explained_by:_Log_GDP_per_capita</th>\n",
       "      <th>Explained_by:_Social_support</th>\n",
       "      <th>Explained_by:_Healthy_life_expectancy</th>\n",
       "      <th>Explained_by:_Freedom_to_make_life_choices</th>\n",
       "      <th>Explained_by:_Generosity</th>\n",
       "      <th>Explained_by:_Perceptions_of_corruption</th>\n",
       "      <th>Dystopia_+_residual</th>\n",
       "    </tr>\n",
       "  </thead>\n",
       "  <tbody>\n",
       "    <tr>\n",
       "      <td>0</td>\n",
       "      <td>Finland</td>\n",
       "      <td>Western Europe</td>\n",
       "      <td>7.8087</td>\n",
       "      <td>0.031156</td>\n",
       "      <td>7.869766</td>\n",
       "      <td>7.747634</td>\n",
       "      <td>10.639267</td>\n",
       "      <td>0.954330</td>\n",
       "      <td>71.900825</td>\n",
       "      <td>0.949172</td>\n",
       "      <td>-0.059482</td>\n",
       "      <td>0.195445</td>\n",
       "      <td>1.972317</td>\n",
       "      <td>1.285190</td>\n",
       "      <td>1.499526</td>\n",
       "      <td>0.961271</td>\n",
       "      <td>0.662317</td>\n",
       "      <td>0.159670</td>\n",
       "      <td>0.477857</td>\n",
       "      <td>2.762835</td>\n",
       "    </tr>\n",
       "    <tr>\n",
       "      <td>1</td>\n",
       "      <td>Denmark</td>\n",
       "      <td>Western Europe</td>\n",
       "      <td>7.6456</td>\n",
       "      <td>0.033492</td>\n",
       "      <td>7.711245</td>\n",
       "      <td>7.579955</td>\n",
       "      <td>10.774001</td>\n",
       "      <td>0.955991</td>\n",
       "      <td>72.402504</td>\n",
       "      <td>0.951444</td>\n",
       "      <td>0.066202</td>\n",
       "      <td>0.168489</td>\n",
       "      <td>1.972317</td>\n",
       "      <td>1.326949</td>\n",
       "      <td>1.503449</td>\n",
       "      <td>0.979333</td>\n",
       "      <td>0.665040</td>\n",
       "      <td>0.242793</td>\n",
       "      <td>0.495260</td>\n",
       "      <td>2.432741</td>\n",
       "    </tr>\n",
       "    <tr>\n",
       "      <td>2</td>\n",
       "      <td>Switzerland</td>\n",
       "      <td>Western Europe</td>\n",
       "      <td>7.5599</td>\n",
       "      <td>0.035014</td>\n",
       "      <td>7.628528</td>\n",
       "      <td>7.491272</td>\n",
       "      <td>10.979933</td>\n",
       "      <td>0.942847</td>\n",
       "      <td>74.102448</td>\n",
       "      <td>0.921337</td>\n",
       "      <td>0.105911</td>\n",
       "      <td>0.303728</td>\n",
       "      <td>1.972317</td>\n",
       "      <td>1.390774</td>\n",
       "      <td>1.472403</td>\n",
       "      <td>1.040533</td>\n",
       "      <td>0.628954</td>\n",
       "      <td>0.269056</td>\n",
       "      <td>0.407946</td>\n",
       "      <td>2.350267</td>\n",
       "    </tr>\n",
       "    <tr>\n",
       "      <td>3</td>\n",
       "      <td>Iceland</td>\n",
       "      <td>Western Europe</td>\n",
       "      <td>7.5045</td>\n",
       "      <td>0.059616</td>\n",
       "      <td>7.621347</td>\n",
       "      <td>7.387653</td>\n",
       "      <td>10.772559</td>\n",
       "      <td>0.974670</td>\n",
       "      <td>73.000000</td>\n",
       "      <td>0.948892</td>\n",
       "      <td>0.246944</td>\n",
       "      <td>0.711710</td>\n",
       "      <td>1.972317</td>\n",
       "      <td>1.326502</td>\n",
       "      <td>1.547567</td>\n",
       "      <td>1.000843</td>\n",
       "      <td>0.661981</td>\n",
       "      <td>0.362330</td>\n",
       "      <td>0.144541</td>\n",
       "      <td>2.460688</td>\n",
       "    </tr>\n",
       "    <tr>\n",
       "      <td>4</td>\n",
       "      <td>Norway</td>\n",
       "      <td>Western Europe</td>\n",
       "      <td>7.4880</td>\n",
       "      <td>0.034837</td>\n",
       "      <td>7.556281</td>\n",
       "      <td>7.419719</td>\n",
       "      <td>11.087804</td>\n",
       "      <td>0.952487</td>\n",
       "      <td>73.200783</td>\n",
       "      <td>0.955750</td>\n",
       "      <td>0.134533</td>\n",
       "      <td>0.263218</td>\n",
       "      <td>1.972317</td>\n",
       "      <td>1.424207</td>\n",
       "      <td>1.495173</td>\n",
       "      <td>1.008072</td>\n",
       "      <td>0.670201</td>\n",
       "      <td>0.287985</td>\n",
       "      <td>0.434101</td>\n",
       "      <td>2.168266</td>\n",
       "    </tr>\n",
       "    <tr>\n",
       "      <td>...</td>\n",
       "      <td>...</td>\n",
       "      <td>...</td>\n",
       "      <td>...</td>\n",
       "      <td>...</td>\n",
       "      <td>...</td>\n",
       "      <td>...</td>\n",
       "      <td>...</td>\n",
       "      <td>...</td>\n",
       "      <td>...</td>\n",
       "      <td>...</td>\n",
       "      <td>...</td>\n",
       "      <td>...</td>\n",
       "      <td>...</td>\n",
       "      <td>...</td>\n",
       "      <td>...</td>\n",
       "      <td>...</td>\n",
       "      <td>...</td>\n",
       "      <td>...</td>\n",
       "      <td>...</td>\n",
       "      <td>...</td>\n",
       "    </tr>\n",
       "    <tr>\n",
       "      <td>148</td>\n",
       "      <td>Central African Republic</td>\n",
       "      <td>Sub-Saharan Africa</td>\n",
       "      <td>3.4759</td>\n",
       "      <td>0.115183</td>\n",
       "      <td>3.701658</td>\n",
       "      <td>3.250141</td>\n",
       "      <td>6.625160</td>\n",
       "      <td>0.319460</td>\n",
       "      <td>45.200001</td>\n",
       "      <td>0.640881</td>\n",
       "      <td>0.082410</td>\n",
       "      <td>0.891807</td>\n",
       "      <td>1.972317</td>\n",
       "      <td>0.041072</td>\n",
       "      <td>0.000000</td>\n",
       "      <td>0.000000</td>\n",
       "      <td>0.292814</td>\n",
       "      <td>0.253513</td>\n",
       "      <td>0.028265</td>\n",
       "      <td>2.860198</td>\n",
       "    </tr>\n",
       "    <tr>\n",
       "      <td>149</td>\n",
       "      <td>Rwanda</td>\n",
       "      <td>Sub-Saharan Africa</td>\n",
       "      <td>3.3123</td>\n",
       "      <td>0.052425</td>\n",
       "      <td>3.415053</td>\n",
       "      <td>3.209547</td>\n",
       "      <td>7.600104</td>\n",
       "      <td>0.540835</td>\n",
       "      <td>61.098846</td>\n",
       "      <td>0.900589</td>\n",
       "      <td>0.055484</td>\n",
       "      <td>0.183541</td>\n",
       "      <td>1.972317</td>\n",
       "      <td>0.343243</td>\n",
       "      <td>0.522876</td>\n",
       "      <td>0.572383</td>\n",
       "      <td>0.604088</td>\n",
       "      <td>0.235705</td>\n",
       "      <td>0.485542</td>\n",
       "      <td>0.548445</td>\n",
       "    </tr>\n",
       "    <tr>\n",
       "      <td>150</td>\n",
       "      <td>Zimbabwe</td>\n",
       "      <td>Sub-Saharan Africa</td>\n",
       "      <td>3.2992</td>\n",
       "      <td>0.058674</td>\n",
       "      <td>3.414202</td>\n",
       "      <td>3.184198</td>\n",
       "      <td>7.865712</td>\n",
       "      <td>0.763093</td>\n",
       "      <td>55.617260</td>\n",
       "      <td>0.711458</td>\n",
       "      <td>-0.072064</td>\n",
       "      <td>0.810237</td>\n",
       "      <td>1.972317</td>\n",
       "      <td>0.425564</td>\n",
       "      <td>1.047835</td>\n",
       "      <td>0.375038</td>\n",
       "      <td>0.377405</td>\n",
       "      <td>0.151349</td>\n",
       "      <td>0.080929</td>\n",
       "      <td>0.841031</td>\n",
       "    </tr>\n",
       "    <tr>\n",
       "      <td>151</td>\n",
       "      <td>South Sudan</td>\n",
       "      <td>Sub-Saharan Africa</td>\n",
       "      <td>2.8166</td>\n",
       "      <td>0.107610</td>\n",
       "      <td>3.027516</td>\n",
       "      <td>2.605684</td>\n",
       "      <td>7.425360</td>\n",
       "      <td>0.553707</td>\n",
       "      <td>51.000000</td>\n",
       "      <td>0.451314</td>\n",
       "      <td>0.016519</td>\n",
       "      <td>0.763417</td>\n",
       "      <td>1.972317</td>\n",
       "      <td>0.289083</td>\n",
       "      <td>0.553279</td>\n",
       "      <td>0.208809</td>\n",
       "      <td>0.065609</td>\n",
       "      <td>0.209935</td>\n",
       "      <td>0.111157</td>\n",
       "      <td>1.378751</td>\n",
       "    </tr>\n",
       "    <tr>\n",
       "      <td>152</td>\n",
       "      <td>Afghanistan</td>\n",
       "      <td>South Asia</td>\n",
       "      <td>2.5669</td>\n",
       "      <td>0.031311</td>\n",
       "      <td>2.628270</td>\n",
       "      <td>2.505530</td>\n",
       "      <td>7.462861</td>\n",
       "      <td>0.470367</td>\n",
       "      <td>52.590000</td>\n",
       "      <td>0.396573</td>\n",
       "      <td>-0.096429</td>\n",
       "      <td>0.933687</td>\n",
       "      <td>1.972317</td>\n",
       "      <td>0.300706</td>\n",
       "      <td>0.356434</td>\n",
       "      <td>0.266052</td>\n",
       "      <td>0.000000</td>\n",
       "      <td>0.135235</td>\n",
       "      <td>0.001226</td>\n",
       "      <td>1.507236</td>\n",
       "    </tr>\n",
       "  </tbody>\n",
       "</table>\n",
       "<p>153 rows × 20 columns</p>\n",
       "</div>"
      ],
      "text/plain": [
       "                 Country_name  Regional_indicator  Ladder_score  \\\n",
       "0                     Finland      Western Europe        7.8087   \n",
       "1                     Denmark      Western Europe        7.6456   \n",
       "2                 Switzerland      Western Europe        7.5599   \n",
       "3                     Iceland      Western Europe        7.5045   \n",
       "4                      Norway      Western Europe        7.4880   \n",
       "..                        ...                 ...           ...   \n",
       "148  Central African Republic  Sub-Saharan Africa        3.4759   \n",
       "149                    Rwanda  Sub-Saharan Africa        3.3123   \n",
       "150                  Zimbabwe  Sub-Saharan Africa        3.2992   \n",
       "151               South Sudan  Sub-Saharan Africa        2.8166   \n",
       "152               Afghanistan          South Asia        2.5669   \n",
       "\n",
       "     Standard_error_of_ladder_score  upperwhisker  lowerwhisker  \\\n",
       "0                          0.031156      7.869766      7.747634   \n",
       "1                          0.033492      7.711245      7.579955   \n",
       "2                          0.035014      7.628528      7.491272   \n",
       "3                          0.059616      7.621347      7.387653   \n",
       "4                          0.034837      7.556281      7.419719   \n",
       "..                              ...           ...           ...   \n",
       "148                        0.115183      3.701658      3.250141   \n",
       "149                        0.052425      3.415053      3.209547   \n",
       "150                        0.058674      3.414202      3.184198   \n",
       "151                        0.107610      3.027516      2.605684   \n",
       "152                        0.031311      2.628270      2.505530   \n",
       "\n",
       "     Logged_GDP_per_capita  Social_support  Healthy_life_expectancy  \\\n",
       "0                10.639267        0.954330                71.900825   \n",
       "1                10.774001        0.955991                72.402504   \n",
       "2                10.979933        0.942847                74.102448   \n",
       "3                10.772559        0.974670                73.000000   \n",
       "4                11.087804        0.952487                73.200783   \n",
       "..                     ...             ...                      ...   \n",
       "148               6.625160        0.319460                45.200001   \n",
       "149               7.600104        0.540835                61.098846   \n",
       "150               7.865712        0.763093                55.617260   \n",
       "151               7.425360        0.553707                51.000000   \n",
       "152               7.462861        0.470367                52.590000   \n",
       "\n",
       "     Freedom_to_make_life_choices  Generosity  Perceptions_of_corruption  \\\n",
       "0                        0.949172   -0.059482                   0.195445   \n",
       "1                        0.951444    0.066202                   0.168489   \n",
       "2                        0.921337    0.105911                   0.303728   \n",
       "3                        0.948892    0.246944                   0.711710   \n",
       "4                        0.955750    0.134533                   0.263218   \n",
       "..                            ...         ...                        ...   \n",
       "148                      0.640881    0.082410                   0.891807   \n",
       "149                      0.900589    0.055484                   0.183541   \n",
       "150                      0.711458   -0.072064                   0.810237   \n",
       "151                      0.451314    0.016519                   0.763417   \n",
       "152                      0.396573   -0.096429                   0.933687   \n",
       "\n",
       "     Ladder_score_in_Dystopia  Explained_by:_Log_GDP_per_capita  \\\n",
       "0                    1.972317                          1.285190   \n",
       "1                    1.972317                          1.326949   \n",
       "2                    1.972317                          1.390774   \n",
       "3                    1.972317                          1.326502   \n",
       "4                    1.972317                          1.424207   \n",
       "..                        ...                               ...   \n",
       "148                  1.972317                          0.041072   \n",
       "149                  1.972317                          0.343243   \n",
       "150                  1.972317                          0.425564   \n",
       "151                  1.972317                          0.289083   \n",
       "152                  1.972317                          0.300706   \n",
       "\n",
       "     Explained_by:_Social_support  Explained_by:_Healthy_life_expectancy  \\\n",
       "0                        1.499526                               0.961271   \n",
       "1                        1.503449                               0.979333   \n",
       "2                        1.472403                               1.040533   \n",
       "3                        1.547567                               1.000843   \n",
       "4                        1.495173                               1.008072   \n",
       "..                            ...                                    ...   \n",
       "148                      0.000000                               0.000000   \n",
       "149                      0.522876                               0.572383   \n",
       "150                      1.047835                               0.375038   \n",
       "151                      0.553279                               0.208809   \n",
       "152                      0.356434                               0.266052   \n",
       "\n",
       "     Explained_by:_Freedom_to_make_life_choices  Explained_by:_Generosity  \\\n",
       "0                                      0.662317                  0.159670   \n",
       "1                                      0.665040                  0.242793   \n",
       "2                                      0.628954                  0.269056   \n",
       "3                                      0.661981                  0.362330   \n",
       "4                                      0.670201                  0.287985   \n",
       "..                                          ...                       ...   \n",
       "148                                    0.292814                  0.253513   \n",
       "149                                    0.604088                  0.235705   \n",
       "150                                    0.377405                  0.151349   \n",
       "151                                    0.065609                  0.209935   \n",
       "152                                    0.000000                  0.135235   \n",
       "\n",
       "     Explained_by:_Perceptions_of_corruption  Dystopia_+_residual  \n",
       "0                                   0.477857             2.762835  \n",
       "1                                   0.495260             2.432741  \n",
       "2                                   0.407946             2.350267  \n",
       "3                                   0.144541             2.460688  \n",
       "4                                   0.434101             2.168266  \n",
       "..                                       ...                  ...  \n",
       "148                                 0.028265             2.860198  \n",
       "149                                 0.485542             0.548445  \n",
       "150                                 0.080929             0.841031  \n",
       "151                                 0.111157             1.378751  \n",
       "152                                 0.001226             1.507236  \n",
       "\n",
       "[153 rows x 20 columns]"
      ]
     },
     "execution_count": 3,
     "metadata": {},
     "output_type": "execute_result"
    }
   ],
   "source": [
    "happy_2020 = pd.read_csv('world_happiness_2020.csv')\n",
    "\n",
    "happy_2020.columns = [c.replace(' ', '_') for c in happy_2020.columns]\n",
    "#happy_2020.set_index('Country_name', inplace= True)\n",
    "happy_2020.drop(['Unnamed:_0'],axis=1,inplace=True)\n",
    "happy_2020"
   ]
  },
  {
   "cell_type": "markdown",
   "metadata": {
    "colab_type": "text",
    "id": "ni53AfI54wY6"
   },
   "source": [
    "Regression Model for Happiness"
   ]
  },
  {
   "cell_type": "code",
   "execution_count": 4,
   "metadata": {
    "colab": {
     "base_uri": "https://localhost:8080/",
     "height": 381
    },
    "colab_type": "code",
    "executionInfo": {
     "elapsed": 3270,
     "status": "ok",
     "timestamp": 1597097583717,
     "user": {
      "displayName": "Samir Epili",
      "photoUrl": "",
      "userId": "17793813043662774071"
     },
     "user_tz": 300
    },
    "id": "eRCkK0l53nfS",
    "outputId": "d8ad20d1-440d-40f8-fe7d-d6b78cb55031"
   },
   "outputs": [
    {
     "data": {
      "text/plain": [
       "0                                   Country_name\n",
       "1                             Regional_indicator\n",
       "2                                   Ladder_score\n",
       "3                 Standard_error_of_ladder_score\n",
       "4                                   upperwhisker\n",
       "5                                   lowerwhisker\n",
       "6                          Logged_GDP_per_capita\n",
       "7                                 Social_support\n",
       "8                        Healthy_life_expectancy\n",
       "9                   Freedom_to_make_life_choices\n",
       "10                                    Generosity\n",
       "11                     Perceptions_of_corruption\n",
       "12                      Ladder_score_in_Dystopia\n",
       "13              Explained_by:_Log_GDP_per_capita\n",
       "14                  Explained_by:_Social_support\n",
       "15         Explained_by:_Healthy_life_expectancy\n",
       "16    Explained_by:_Freedom_to_make_life_choices\n",
       "17                      Explained_by:_Generosity\n",
       "18       Explained_by:_Perceptions_of_corruption\n",
       "19                           Dystopia_+_residual\n",
       "dtype: object"
      ]
     },
     "execution_count": 4,
     "metadata": {},
     "output_type": "execute_result"
    }
   ],
   "source": [
    "var_names = Series(happy_2020.columns.values)\n",
    "var_names"
   ]
  },
  {
   "cell_type": "code",
   "execution_count": 5,
   "metadata": {
    "colab": {},
    "colab_type": "code",
    "executionInfo": {
     "elapsed": 3263,
     "status": "ok",
     "timestamp": 1597097583718,
     "user": {
      "displayName": "Samir Epili",
      "photoUrl": "",
      "userId": "17793813043662774071"
     },
     "user_tz": 300
    },
    "id": "92H0uYJ_3dBY"
   },
   "outputs": [],
   "source": [
    "def make_vars(vars_2020):\n",
    "    var_str = var_names.iloc[vars_2020].values\n",
    "    s = ''\n",
    "    for var in var_str:\n",
    "        s = s + var + ' + '\n",
    "    s = s.rstrip(' + ')\n",
    "    return s"
   ]
  },
  {
   "cell_type": "code",
   "execution_count": 6,
   "metadata": {
    "colab": {
     "base_uri": "https://localhost:8080/",
     "height": 901
    },
    "colab_type": "code",
    "executionInfo": {
     "elapsed": 3243,
     "status": "ok",
     "timestamp": 1597097583719,
     "user": {
      "displayName": "Samir Epili",
      "photoUrl": "",
      "userId": "17793813043662774071"
     },
     "user_tz": 300
    },
    "id": "2fdgVXbN3g82",
    "outputId": "db4c38d4-831b-451e-a890-246b31d113b8"
   },
   "outputs": [
    {
     "name": "stdout",
     "output_type": "stream",
     "text": [
      "                            OLS Regression Results                            \n",
      "==============================================================================\n",
      "Dep. Variable:           Ladder_score   R-squared:                       0.748\n",
      "Model:                            OLS   Adj. R-squared:                  0.738\n",
      "Method:                 Least Squares   F-statistic:                     72.36\n",
      "Date:                Thu, 10 Sep 2020   Prob (F-statistic):           2.86e-41\n",
      "Time:                        16:39:45   Log-Likelihood:                -127.33\n",
      "No. Observations:                 153   AIC:                             268.7\n",
      "Df Residuals:                     146   BIC:                             289.9\n",
      "Df Model:                           6                                         \n",
      "Covariance Type:            nonrobust                                         \n",
      "================================================================================================\n",
      "                                   coef    std err          t      P>|t|      [0.025      0.975]\n",
      "------------------------------------------------------------------------------------------------\n",
      "Intercept                       -2.0594      0.640     -3.219      0.002      -3.324      -0.795\n",
      "Logged_GDP_per_capita            0.2291      0.082      2.791      0.006       0.067       0.391\n",
      "Social_support                   2.7233      0.661      4.119      0.000       1.417       4.030\n",
      "Healthy_life_expectancy          0.0353      0.013      2.721      0.007       0.010       0.061\n",
      "Freedom_to_make_life_choices     1.7768      0.498      3.571      0.000       0.794       2.760\n",
      "Generosity                       0.4106      0.337      1.218      0.225      -0.256       1.077\n",
      "Perceptions_of_corruption       -0.6282      0.315     -1.995      0.048      -1.250      -0.006\n",
      "==============================================================================\n",
      "Omnibus:                        7.971   Durbin-Watson:                   1.482\n",
      "Prob(Omnibus):                  0.019   Jarque-Bera (JB):                7.701\n",
      "Skew:                          -0.503   Prob(JB):                       0.0213\n",
      "Kurtosis:                       3.441   Cond. No.                     1.12e+03\n",
      "==============================================================================\n",
      "\n",
      "Warnings:\n",
      "[1] Standard Errors assume that the covariance matrix of the errors is correctly specified.\n",
      "[2] The condition number is large, 1.12e+03. This might indicate that there are\n",
      "strong multicollinearity or other numerical problems.\n",
      "Params\n",
      "Intercept                      -2.059377\n",
      "Logged_GDP_per_capita           0.229079\n",
      "Social_support                  2.723318\n",
      "Healthy_life_expectancy         0.035307\n",
      "Freedom_to_make_life_choices    1.776815\n",
      "Generosity                      0.410566\n",
      "Perceptions_of_corruption      -0.628162\n",
      "dtype: float64\n",
      "R-squared = 0.7483323102875423\n",
      "P-values\n",
      "Intercept                       0.001588\n",
      "Logged_GDP_per_capita           0.005960\n",
      "Social_support                  0.000063\n",
      "Healthy_life_expectancy         0.007293\n",
      "Freedom_to_make_life_choices    0.000481\n",
      "Generosity                      0.225126\n",
      "Perceptions_of_corruption       0.047857\n",
      "dtype: float64\n"
     ]
    }
   ],
   "source": [
    "#Multilinear regression of Happiness with all predictors\n",
    "predictors = [6,7,8,9,10,11]\n",
    "pred_str = make_vars(predictors)\n",
    "y, X = dmatrices('Ladder_score ~ ' + pred_str, data=happy_2020, return_type='dataframe')\n",
    "model = sm.OLS(y, X)       # Set up the model\n",
    "result = model.fit()       # Fit model\n",
    "print(result.summary())\n",
    "\n",
    "print('Params')\n",
    "print(result.params)\n",
    "print\n",
    "print('R-squared =', result.rsquared)\n",
    "print('P-values')\n",
    "print(result.pvalues)\n",
    "\n",
    "\n",
    "# Generosity p value too high (3.267089e-01) 9\n",
    "# Perceptions of corruption p value high (7.505259e-02) 10"
   ]
  },
  {
   "cell_type": "markdown",
   "metadata": {
    "colab_type": "text",
    "id": "4Rie4pE-4Jm2"
   },
   "source": [
    "Consider removing generosity and perceptions of corruption since their p-values are too high."
   ]
  },
  {
   "cell_type": "code",
   "execution_count": 7,
   "metadata": {
    "colab": {
     "base_uri": "https://localhost:8080/",
     "height": 763
    },
    "colab_type": "code",
    "executionInfo": {
     "elapsed": 3491,
     "status": "ok",
     "timestamp": 1597097583985,
     "user": {
      "displayName": "Samir Epili",
      "photoUrl": "",
      "userId": "17793813043662774071"
     },
     "user_tz": 300
    },
    "id": "c6Jzee9E3vfT",
    "outputId": "52d507d3-fb64-422c-b45c-8e615250a537"
   },
   "outputs": [
    {
     "name": "stdout",
     "output_type": "stream",
     "text": [
      "                            OLS Regression Results                            \n",
      "==============================================================================\n",
      "Dep. Variable:           Ladder_score   R-squared:                       0.736\n",
      "Model:                            OLS   Adj. R-squared:                  0.729\n",
      "Method:                 Least Squares   F-statistic:                     103.1\n",
      "Date:                Thu, 10 Sep 2020   Prob (F-statistic):           9.00e-42\n",
      "Time:                        16:39:45   Log-Likelihood:                -131.02\n",
      "No. Observations:                 153   AIC:                             272.0\n",
      "Df Residuals:                     148   BIC:                             287.2\n",
      "Df Model:                           4                                         \n",
      "Covariance Type:            nonrobust                                         \n",
      "================================================================================================\n",
      "                                   coef    std err          t      P>|t|      [0.025      0.975]\n",
      "------------------------------------------------------------------------------------------------\n",
      "Intercept                       -3.0104      0.454     -6.631      0.000      -3.908      -2.113\n",
      "Logged_GDP_per_capita            0.2398      0.082      2.933      0.004       0.078       0.401\n",
      "Social_support                   2.4049      0.657      3.660      0.000       1.106       3.703\n",
      "Healthy_life_expectancy          0.0386      0.013      2.949      0.004       0.013       0.064\n",
      "Freedom_to_make_life_choices     2.3266      0.460      5.054      0.000       1.417       3.236\n",
      "==============================================================================\n",
      "Omnibus:                        5.121   Durbin-Watson:                   1.388\n",
      "Prob(Omnibus):                  0.077   Jarque-Bera (JB):                4.738\n",
      "Skew:                          -0.421   Prob(JB):                       0.0936\n",
      "Kurtosis:                       3.189   Cond. No.                         950.\n",
      "==============================================================================\n",
      "\n",
      "Warnings:\n",
      "[1] Standard Errors assume that the covariance matrix of the errors is correctly specified.\n",
      "Params\n",
      "Intercept                      -3.010420\n",
      "Logged_GDP_per_capita           0.239801\n",
      "Social_support                  2.404850\n",
      "Healthy_life_expectancy         0.038592\n",
      "Freedom_to_make_life_choices    2.326637\n",
      "dtype: float64\n",
      "R-squared = 0.7359043342171943\n",
      "P-values\n",
      "Intercept                       5.852044e-10\n",
      "Logged_GDP_per_capita           3.896934e-03\n",
      "Social_support                  3.503734e-04\n",
      "Healthy_life_expectancy         3.705380e-03\n",
      "Freedom_to_make_life_choices    1.259603e-06\n",
      "dtype: float64\n"
     ]
    }
   ],
   "source": [
    "pred_str = make_vars([6,7,8,9])\n",
    "\n",
    "y, X = dmatrices('Ladder_score ~ ' + pred_str, data=happy_2020, return_type='dataframe')\n",
    "model = sm.OLS(y, X)       # Set up the model\n",
    "result = model.fit()       # Fit model\n",
    "print(result.summary())\n",
    "\n",
    "print('Params')\n",
    "print(result.params)\n",
    "print\n",
    "print('R-squared =', result.rsquared)\n",
    "print('P-values')\n",
    "print(result.pvalues)\n",
    "\n",
    "# 1 FTMLC\n",
    "# 2 SS\n",
    "# 3 HLE\n",
    "# 4 logged GDP/cap\n",
    "\n",
    "#plot these top 4"
   ]
  },
  {
   "cell_type": "markdown",
   "metadata": {
    "colab_type": "text",
    "id": "gOvMB-ew-WTE"
   },
   "source": [
    "R^2 suffers a little."
   ]
  },
  {
   "cell_type": "code",
   "execution_count": 8,
   "metadata": {
    "colab": {
     "base_uri": "https://localhost:8080/",
     "height": 763
    },
    "colab_type": "code",
    "executionInfo": {
     "elapsed": 3476,
     "status": "ok",
     "timestamp": 1597097583986,
     "user": {
      "displayName": "Samir Epili",
      "photoUrl": "",
      "userId": "17793813043662774071"
     },
     "user_tz": 300
    },
    "id": "cx-V7f9qrmCh",
    "outputId": "071b0b0f-7a0b-48e1-faf4-c6f2eb20417a"
   },
   "outputs": [
    {
     "name": "stdout",
     "output_type": "stream",
     "text": [
      "                            OLS Regression Results                            \n",
      "==============================================================================\n",
      "Dep. Variable:           Ladder_score   R-squared:                       0.772\n",
      "Model:                            OLS   Adj. R-squared:                  0.763\n",
      "Method:                 Least Squares   F-statistic:                     86.12\n",
      "Date:                Thu, 10 Sep 2020   Prob (F-statistic):           8.02e-32\n",
      "Time:                        16:39:45   Log-Likelihood:                -90.475\n",
      "No. Observations:                 107   AIC:                             191.0\n",
      "Df Residuals:                     102   BIC:                             204.3\n",
      "Df Model:                           4                                         \n",
      "Covariance Type:            nonrobust                                         \n",
      "================================================================================================\n",
      "                                   coef    std err          t      P>|t|      [0.025      0.975]\n",
      "------------------------------------------------------------------------------------------------\n",
      "Intercept                       -3.2738      0.531     -6.161      0.000      -4.328      -2.220\n",
      "Logged_GDP_per_capita            0.2258      0.093      2.422      0.017       0.041       0.411\n",
      "Social_support                   2.8910      0.756      3.825      0.000       1.392       4.390\n",
      "Healthy_life_expectancy          0.0449      0.015      2.996      0.003       0.015       0.075\n",
      "Freedom_to_make_life_choices     1.7949      0.558      3.216      0.002       0.688       2.902\n",
      "==============================================================================\n",
      "Omnibus:                        3.951   Durbin-Watson:                   1.749\n",
      "Prob(Omnibus):                  0.139   Jarque-Bera (JB):                3.365\n",
      "Skew:                          -0.413   Prob(JB):                        0.186\n",
      "Kurtosis:                       3.268   Cond. No.                         930.\n",
      "==============================================================================\n",
      "\n",
      "Warnings:\n",
      "[1] Standard Errors assume that the covariance matrix of the errors is correctly specified.\n",
      "Params\n",
      "Intercept                      -3.273785\n",
      "Logged_GDP_per_capita           0.225847\n",
      "Social_support                  2.891011\n",
      "Healthy_life_expectancy         0.044885\n",
      "Freedom_to_make_life_choices    1.794946\n",
      "dtype: float64\n",
      "R-squared = 0.7715474867537874\n",
      "P-values\n",
      "Intercept                       1.450245e-08\n",
      "Logged_GDP_per_capita           1.721916e-02\n",
      "Social_support                  2.252655e-04\n",
      "Healthy_life_expectancy         3.438655e-03\n",
      "Freedom_to_make_life_choices    1.740968e-03\n",
      "dtype: float64\n"
     ]
    }
   ],
   "source": [
    "#predictive model for happiness\n",
    "\n",
    "pred_str = make_vars([6,7,8,9])\n",
    "\n",
    "Y, X = dmatrices('Ladder_score ~ ' + pred_str, data=happy_2020, return_type='dataframe')\n",
    "#y = Y['logged_num_max_increase'].values\n",
    "\n",
    "\n",
    "from sklearn.model_selection import train_test_split\n",
    "X_train, X_test, y_train, y_test = train_test_split(X, Y, test_size=0.3, random_state=1)\n",
    "\n",
    "\n",
    "model = sm.OLS(y_train, X_train)       # Set up the model\n",
    "result = model.fit()\n",
    "print(result.summary())\n",
    "\n",
    "print('Params')\n",
    "print(result.params)\n",
    "print\n",
    "print('R-squared =', result.rsquared)\n",
    "print('P-values')\n",
    "print(result.pvalues)"
   ]
  },
  {
   "cell_type": "code",
   "execution_count": 9,
   "metadata": {
    "colab": {
     "base_uri": "https://localhost:8080/",
     "height": 35
    },
    "colab_type": "code",
    "executionInfo": {
     "elapsed": 3760,
     "status": "ok",
     "timestamp": 1597097584286,
     "user": {
      "displayName": "Samir Epili",
      "photoUrl": "",
      "userId": "17793813043662774071"
     },
     "user_tz": 300
    },
    "id": "XENfXQCurzl_",
    "outputId": "57ecc434-b385-4638-db9f-8cde71e97e28"
   },
   "outputs": [
    {
     "name": "stdout",
     "output_type": "stream",
     "text": [
      "0.5996224215367462\n"
     ]
    }
   ],
   "source": [
    "#RMSE on test set\n",
    "\n",
    "from sklearn.linear_model import LinearRegression\n",
    "from sklearn.datasets import make_regression\n",
    "from sklearn import metrics\n",
    "\n",
    "Xnew = X_test.values\n",
    "y_pred = result.predict(Xnew)\n",
    "\n",
    "RMSE = print(sqrt(metrics.mean_squared_error(y_test, y_pred)))"
   ]
  },
  {
   "cell_type": "markdown",
   "metadata": {
    "colab_type": "text",
    "id": "mcdbHKaJHpKj"
   },
   "source": [
    "Regression models using happiness factors"
   ]
  },
  {
   "cell_type": "code",
   "execution_count": 10,
   "metadata": {
    "colab": {
     "base_uri": "https://localhost:8080/",
     "height": 453
    },
    "colab_type": "code",
    "executionInfo": {
     "elapsed": 4279,
     "status": "ok",
     "timestamp": 1597097584834,
     "user": {
      "displayName": "Samir Epili",
      "photoUrl": "",
      "userId": "17793813043662774071"
     },
     "user_tz": 300
    },
    "id": "y7ZCxJaNJNsy",
    "outputId": "83842077-3906-4992-e7bb-1d6b160ed328"
   },
   "outputs": [
    {
     "data": {
      "text/html": [
       "<div>\n",
       "<style scoped>\n",
       "    .dataframe tbody tr th:only-of-type {\n",
       "        vertical-align: middle;\n",
       "    }\n",
       "\n",
       "    .dataframe tbody tr th {\n",
       "        vertical-align: top;\n",
       "    }\n",
       "\n",
       "    .dataframe thead th {\n",
       "        text-align: right;\n",
       "    }\n",
       "</style>\n",
       "<table border=\"1\" class=\"dataframe\">\n",
       "  <thead>\n",
       "    <tr style=\"text-align: right;\">\n",
       "      <th></th>\n",
       "      <th>Province/State</th>\n",
       "      <th>Country/Region</th>\n",
       "      <th>Lat</th>\n",
       "      <th>Long</th>\n",
       "      <th>1/22/20</th>\n",
       "      <th>1/23/20</th>\n",
       "      <th>1/24/20</th>\n",
       "      <th>1/25/20</th>\n",
       "      <th>1/26/20</th>\n",
       "      <th>1/27/20</th>\n",
       "      <th>...</th>\n",
       "      <th>4/21/20</th>\n",
       "      <th>4/22/20</th>\n",
       "      <th>4/23/20</th>\n",
       "      <th>4/24/20</th>\n",
       "      <th>4/25/20</th>\n",
       "      <th>4/26/20</th>\n",
       "      <th>4/27/20</th>\n",
       "      <th>4/28/20</th>\n",
       "      <th>4/29/20</th>\n",
       "      <th>4/30/20</th>\n",
       "    </tr>\n",
       "  </thead>\n",
       "  <tbody>\n",
       "    <tr>\n",
       "      <td>0</td>\n",
       "      <td>NaN</td>\n",
       "      <td>Afghanistan</td>\n",
       "      <td>33.000000</td>\n",
       "      <td>65.000000</td>\n",
       "      <td>0</td>\n",
       "      <td>0</td>\n",
       "      <td>0</td>\n",
       "      <td>0</td>\n",
       "      <td>0</td>\n",
       "      <td>0</td>\n",
       "      <td>...</td>\n",
       "      <td>1092</td>\n",
       "      <td>1176</td>\n",
       "      <td>1279</td>\n",
       "      <td>1351</td>\n",
       "      <td>1463</td>\n",
       "      <td>1531</td>\n",
       "      <td>1703</td>\n",
       "      <td>1828</td>\n",
       "      <td>1939</td>\n",
       "      <td>2171</td>\n",
       "    </tr>\n",
       "    <tr>\n",
       "      <td>1</td>\n",
       "      <td>NaN</td>\n",
       "      <td>Albania</td>\n",
       "      <td>41.153300</td>\n",
       "      <td>20.168300</td>\n",
       "      <td>0</td>\n",
       "      <td>0</td>\n",
       "      <td>0</td>\n",
       "      <td>0</td>\n",
       "      <td>0</td>\n",
       "      <td>0</td>\n",
       "      <td>...</td>\n",
       "      <td>609</td>\n",
       "      <td>634</td>\n",
       "      <td>663</td>\n",
       "      <td>678</td>\n",
       "      <td>712</td>\n",
       "      <td>726</td>\n",
       "      <td>736</td>\n",
       "      <td>750</td>\n",
       "      <td>766</td>\n",
       "      <td>773</td>\n",
       "    </tr>\n",
       "    <tr>\n",
       "      <td>2</td>\n",
       "      <td>NaN</td>\n",
       "      <td>Algeria</td>\n",
       "      <td>28.033900</td>\n",
       "      <td>1.659600</td>\n",
       "      <td>0</td>\n",
       "      <td>0</td>\n",
       "      <td>0</td>\n",
       "      <td>0</td>\n",
       "      <td>0</td>\n",
       "      <td>0</td>\n",
       "      <td>...</td>\n",
       "      <td>2811</td>\n",
       "      <td>2910</td>\n",
       "      <td>3007</td>\n",
       "      <td>3127</td>\n",
       "      <td>3256</td>\n",
       "      <td>3382</td>\n",
       "      <td>3517</td>\n",
       "      <td>3649</td>\n",
       "      <td>3848</td>\n",
       "      <td>4006</td>\n",
       "    </tr>\n",
       "    <tr>\n",
       "      <td>3</td>\n",
       "      <td>NaN</td>\n",
       "      <td>Andorra</td>\n",
       "      <td>42.506300</td>\n",
       "      <td>1.521800</td>\n",
       "      <td>0</td>\n",
       "      <td>0</td>\n",
       "      <td>0</td>\n",
       "      <td>0</td>\n",
       "      <td>0</td>\n",
       "      <td>0</td>\n",
       "      <td>...</td>\n",
       "      <td>717</td>\n",
       "      <td>723</td>\n",
       "      <td>723</td>\n",
       "      <td>731</td>\n",
       "      <td>738</td>\n",
       "      <td>738</td>\n",
       "      <td>743</td>\n",
       "      <td>743</td>\n",
       "      <td>743</td>\n",
       "      <td>745</td>\n",
       "    </tr>\n",
       "    <tr>\n",
       "      <td>4</td>\n",
       "      <td>NaN</td>\n",
       "      <td>Angola</td>\n",
       "      <td>-11.202700</td>\n",
       "      <td>17.873900</td>\n",
       "      <td>0</td>\n",
       "      <td>0</td>\n",
       "      <td>0</td>\n",
       "      <td>0</td>\n",
       "      <td>0</td>\n",
       "      <td>0</td>\n",
       "      <td>...</td>\n",
       "      <td>24</td>\n",
       "      <td>25</td>\n",
       "      <td>25</td>\n",
       "      <td>25</td>\n",
       "      <td>25</td>\n",
       "      <td>26</td>\n",
       "      <td>27</td>\n",
       "      <td>27</td>\n",
       "      <td>27</td>\n",
       "      <td>27</td>\n",
       "    </tr>\n",
       "    <tr>\n",
       "      <td>...</td>\n",
       "      <td>...</td>\n",
       "      <td>...</td>\n",
       "      <td>...</td>\n",
       "      <td>...</td>\n",
       "      <td>...</td>\n",
       "      <td>...</td>\n",
       "      <td>...</td>\n",
       "      <td>...</td>\n",
       "      <td>...</td>\n",
       "      <td>...</td>\n",
       "      <td>...</td>\n",
       "      <td>...</td>\n",
       "      <td>...</td>\n",
       "      <td>...</td>\n",
       "      <td>...</td>\n",
       "      <td>...</td>\n",
       "      <td>...</td>\n",
       "      <td>...</td>\n",
       "      <td>...</td>\n",
       "      <td>...</td>\n",
       "      <td>...</td>\n",
       "    </tr>\n",
       "    <tr>\n",
       "      <td>261</td>\n",
       "      <td>NaN</td>\n",
       "      <td>Western Sahara</td>\n",
       "      <td>24.215500</td>\n",
       "      <td>-12.885800</td>\n",
       "      <td>0</td>\n",
       "      <td>0</td>\n",
       "      <td>0</td>\n",
       "      <td>0</td>\n",
       "      <td>0</td>\n",
       "      <td>0</td>\n",
       "      <td>...</td>\n",
       "      <td>6</td>\n",
       "      <td>6</td>\n",
       "      <td>6</td>\n",
       "      <td>6</td>\n",
       "      <td>6</td>\n",
       "      <td>6</td>\n",
       "      <td>6</td>\n",
       "      <td>6</td>\n",
       "      <td>6</td>\n",
       "      <td>6</td>\n",
       "    </tr>\n",
       "    <tr>\n",
       "      <td>262</td>\n",
       "      <td>NaN</td>\n",
       "      <td>Sao Tome and Principe</td>\n",
       "      <td>0.186360</td>\n",
       "      <td>6.613081</td>\n",
       "      <td>0</td>\n",
       "      <td>0</td>\n",
       "      <td>0</td>\n",
       "      <td>0</td>\n",
       "      <td>0</td>\n",
       "      <td>0</td>\n",
       "      <td>...</td>\n",
       "      <td>4</td>\n",
       "      <td>4</td>\n",
       "      <td>4</td>\n",
       "      <td>4</td>\n",
       "      <td>4</td>\n",
       "      <td>4</td>\n",
       "      <td>4</td>\n",
       "      <td>8</td>\n",
       "      <td>8</td>\n",
       "      <td>14</td>\n",
       "    </tr>\n",
       "    <tr>\n",
       "      <td>263</td>\n",
       "      <td>NaN</td>\n",
       "      <td>Yemen</td>\n",
       "      <td>15.552727</td>\n",
       "      <td>48.516388</td>\n",
       "      <td>0</td>\n",
       "      <td>0</td>\n",
       "      <td>0</td>\n",
       "      <td>0</td>\n",
       "      <td>0</td>\n",
       "      <td>0</td>\n",
       "      <td>...</td>\n",
       "      <td>1</td>\n",
       "      <td>1</td>\n",
       "      <td>1</td>\n",
       "      <td>1</td>\n",
       "      <td>1</td>\n",
       "      <td>1</td>\n",
       "      <td>1</td>\n",
       "      <td>1</td>\n",
       "      <td>6</td>\n",
       "      <td>6</td>\n",
       "    </tr>\n",
       "    <tr>\n",
       "      <td>264</td>\n",
       "      <td>NaN</td>\n",
       "      <td>Comoros</td>\n",
       "      <td>-11.645500</td>\n",
       "      <td>43.333300</td>\n",
       "      <td>0</td>\n",
       "      <td>0</td>\n",
       "      <td>0</td>\n",
       "      <td>0</td>\n",
       "      <td>0</td>\n",
       "      <td>0</td>\n",
       "      <td>...</td>\n",
       "      <td>0</td>\n",
       "      <td>0</td>\n",
       "      <td>0</td>\n",
       "      <td>0</td>\n",
       "      <td>0</td>\n",
       "      <td>0</td>\n",
       "      <td>0</td>\n",
       "      <td>0</td>\n",
       "      <td>0</td>\n",
       "      <td>1</td>\n",
       "    </tr>\n",
       "    <tr>\n",
       "      <td>265</td>\n",
       "      <td>NaN</td>\n",
       "      <td>Tajikistan</td>\n",
       "      <td>38.861034</td>\n",
       "      <td>71.276093</td>\n",
       "      <td>0</td>\n",
       "      <td>0</td>\n",
       "      <td>0</td>\n",
       "      <td>0</td>\n",
       "      <td>0</td>\n",
       "      <td>0</td>\n",
       "      <td>...</td>\n",
       "      <td>0</td>\n",
       "      <td>0</td>\n",
       "      <td>0</td>\n",
       "      <td>0</td>\n",
       "      <td>0</td>\n",
       "      <td>0</td>\n",
       "      <td>0</td>\n",
       "      <td>0</td>\n",
       "      <td>0</td>\n",
       "      <td>15</td>\n",
       "    </tr>\n",
       "  </tbody>\n",
       "</table>\n",
       "<p>266 rows × 104 columns</p>\n",
       "</div>"
      ],
      "text/plain": [
       "    Province/State         Country/Region        Lat       Long  1/22/20  \\\n",
       "0              NaN            Afghanistan  33.000000  65.000000        0   \n",
       "1              NaN                Albania  41.153300  20.168300        0   \n",
       "2              NaN                Algeria  28.033900   1.659600        0   \n",
       "3              NaN                Andorra  42.506300   1.521800        0   \n",
       "4              NaN                 Angola -11.202700  17.873900        0   \n",
       "..             ...                    ...        ...        ...      ...   \n",
       "261            NaN         Western Sahara  24.215500 -12.885800        0   \n",
       "262            NaN  Sao Tome and Principe   0.186360   6.613081        0   \n",
       "263            NaN                  Yemen  15.552727  48.516388        0   \n",
       "264            NaN                Comoros -11.645500  43.333300        0   \n",
       "265            NaN             Tajikistan  38.861034  71.276093        0   \n",
       "\n",
       "     1/23/20  1/24/20  1/25/20  1/26/20  1/27/20  ...  4/21/20  4/22/20  \\\n",
       "0          0        0        0        0        0  ...     1092     1176   \n",
       "1          0        0        0        0        0  ...      609      634   \n",
       "2          0        0        0        0        0  ...     2811     2910   \n",
       "3          0        0        0        0        0  ...      717      723   \n",
       "4          0        0        0        0        0  ...       24       25   \n",
       "..       ...      ...      ...      ...      ...  ...      ...      ...   \n",
       "261        0        0        0        0        0  ...        6        6   \n",
       "262        0        0        0        0        0  ...        4        4   \n",
       "263        0        0        0        0        0  ...        1        1   \n",
       "264        0        0        0        0        0  ...        0        0   \n",
       "265        0        0        0        0        0  ...        0        0   \n",
       "\n",
       "     4/23/20  4/24/20  4/25/20  4/26/20  4/27/20  4/28/20  4/29/20  4/30/20  \n",
       "0       1279     1351     1463     1531     1703     1828     1939     2171  \n",
       "1        663      678      712      726      736      750      766      773  \n",
       "2       3007     3127     3256     3382     3517     3649     3848     4006  \n",
       "3        723      731      738      738      743      743      743      745  \n",
       "4         25       25       25       26       27       27       27       27  \n",
       "..       ...      ...      ...      ...      ...      ...      ...      ...  \n",
       "261        6        6        6        6        6        6        6        6  \n",
       "262        4        4        4        4        4        8        8       14  \n",
       "263        1        1        1        1        1        1        6        6  \n",
       "264        0        0        0        0        0        0        0        1  \n",
       "265        0        0        0        0        0        0        0       15  \n",
       "\n",
       "[266 rows x 104 columns]"
      ]
     },
     "execution_count": 10,
     "metadata": {},
     "output_type": "execute_result"
    }
   ],
   "source": [
    "confirmed = pd.read_csv('covid19_Confirmed_dataset.csv')\n",
    "confirmed"
   ]
  },
  {
   "cell_type": "code",
   "execution_count": 11,
   "metadata": {
    "colab": {
     "base_uri": "https://localhost:8080/",
     "height": 276
    },
    "colab_type": "code",
    "executionInfo": {
     "elapsed": 5768,
     "status": "ok",
     "timestamp": 1597097586345,
     "user": {
      "displayName": "Samir Epili",
      "photoUrl": "",
      "userId": "17793813043662774071"
     },
     "user_tz": 300
    },
    "id": "CyvGyn68JaAy",
    "outputId": "44c1156c-1e2f-4c07-a5d1-2e5577cbf54c"
   },
   "outputs": [
    {
     "data": {
      "image/png": "[encoded data removed]",
      "text/plain": [
       "<Figure size 432x288 with 1 Axes>"
      ]
     },
     "metadata": {
      "needs_background": "light"
     },
     "output_type": "display_data"
    }
   ],
   "source": [
    "#Exploratory Analysis of Confirmed COVID Cases\n",
    "\n",
    "confirmed_cleaned = confirmed.drop(['Lat','Long','Province/State'],axis=1).groupby('Country/Region').agg('sum')\n",
    "\n",
    "for country in confirmed_cleaned.index.values:\n",
    "    confirmed_cleaned.loc[country].plot()"
   ]
  },
  {
   "cell_type": "code",
   "execution_count": 12,
   "metadata": {
    "colab": {},
    "colab_type": "code",
    "executionInfo": {
     "elapsed": 5754,
     "status": "ok",
     "timestamp": 1597097586348,
     "user": {
      "displayName": "Samir Epili",
      "photoUrl": "",
      "userId": "17793813043662774071"
     },
     "user_tz": 300
    },
    "id": "AU8IzrnpJd60"
   },
   "outputs": [],
   "source": [
    "## change US in covid data sets to United States or vice versa\n",
    "confirmed_cleaned = confirmed_cleaned.rename(index = {'US':'United States'})"
   ]
  },
  {
   "cell_type": "code",
   "execution_count": 13,
   "metadata": {
    "colab": {
     "base_uri": "https://localhost:8080/",
     "height": 202
    },
    "colab_type": "code",
    "executionInfo": {
     "elapsed": 5727,
     "status": "ok",
     "timestamp": 1597097586353,
     "user": {
      "displayName": "Samir Epili",
      "photoUrl": "",
      "userId": "17793813043662774071"
     },
     "user_tz": 300
    },
    "id": "onK24wYSJnnX",
    "outputId": "63a62582-568c-44b5-bed5-ab3407146fe7"
   },
   "outputs": [
    {
     "data": {
      "text/html": [
       "<div>\n",
       "<style scoped>\n",
       "    .dataframe tbody tr th:only-of-type {\n",
       "        vertical-align: middle;\n",
       "    }\n",
       "\n",
       "    .dataframe tbody tr th {\n",
       "        vertical-align: top;\n",
       "    }\n",
       "\n",
       "    .dataframe thead th {\n",
       "        text-align: right;\n",
       "    }\n",
       "</style>\n",
       "<table border=\"1\" class=\"dataframe\">\n",
       "  <thead>\n",
       "    <tr style=\"text-align: right;\">\n",
       "      <th></th>\n",
       "      <th>Country/Region</th>\n",
       "      <th>num_max_increase</th>\n",
       "      <th>date_max_increase</th>\n",
       "    </tr>\n",
       "  </thead>\n",
       "  <tbody>\n",
       "    <tr>\n",
       "      <td>0</td>\n",
       "      <td>Afghanistan</td>\n",
       "      <td>232.0</td>\n",
       "      <td>4/30/20</td>\n",
       "    </tr>\n",
       "    <tr>\n",
       "      <td>1</td>\n",
       "      <td>Albania</td>\n",
       "      <td>34.0</td>\n",
       "      <td>4/25/20</td>\n",
       "    </tr>\n",
       "    <tr>\n",
       "      <td>2</td>\n",
       "      <td>Algeria</td>\n",
       "      <td>199.0</td>\n",
       "      <td>4/29/20</td>\n",
       "    </tr>\n",
       "    <tr>\n",
       "      <td>3</td>\n",
       "      <td>Andorra</td>\n",
       "      <td>43.0</td>\n",
       "      <td>3/27/20</td>\n",
       "    </tr>\n",
       "    <tr>\n",
       "      <td>4</td>\n",
       "      <td>Angola</td>\n",
       "      <td>5.0</td>\n",
       "      <td>4/18/20</td>\n",
       "    </tr>\n",
       "  </tbody>\n",
       "</table>\n",
       "</div>"
      ],
      "text/plain": [
       "  Country/Region  num_max_increase date_max_increase\n",
       "0    Afghanistan             232.0           4/30/20\n",
       "1        Albania              34.0           4/25/20\n",
       "2        Algeria             199.0           4/29/20\n",
       "3        Andorra              43.0           3/27/20\n",
       "4         Angola               5.0           4/18/20"
      ]
     },
     "execution_count": 13,
     "metadata": {},
     "output_type": "execute_result"
    }
   ],
   "source": [
    "## Preparation for linear regression to predict highest confirmed cases spike\n",
    "\n",
    "# Largest spike\n",
    "df_max_increase = pd.DataFrame()\n",
    "countries = confirmed_cleaned.index.values\n",
    "max_increase = []\n",
    "max_increase_date = []\n",
    "for country in countries:\n",
    "    max_increase.append(confirmed_cleaned.loc[country].diff().max()) #.diff()\n",
    "    max_increase_date.append(confirmed_cleaned.loc[country].diff().idxmax()) #.diff()\n",
    "df_max_increase['Country/Region'] = countries\n",
    "df_max_increase['num_max_increase'] = max_increase\n",
    "df_max_increase['date_max_increase'] = max_increase_date\n",
    "\n",
    "df_max_increase.head()"
   ]
  },
  {
   "cell_type": "code",
   "execution_count": 14,
   "metadata": {
    "colab": {
     "base_uri": "https://localhost:8080/",
     "height": 453
    },
    "colab_type": "code",
    "executionInfo": {
     "elapsed": 5704,
     "status": "ok",
     "timestamp": 1597097586355,
     "user": {
      "displayName": "Samir Epili",
      "photoUrl": "",
      "userId": "17793813043662774071"
     },
     "user_tz": 300
    },
    "id": "93-jbvN_JtZ4",
    "outputId": "8ac21aac-18f9-4689-b75e-a599bf2a8484"
   },
   "outputs": [
    {
     "data": {
      "text/html": [
       "<div>\n",
       "<style scoped>\n",
       "    .dataframe tbody tr th:only-of-type {\n",
       "        vertical-align: middle;\n",
       "    }\n",
       "\n",
       "    .dataframe tbody tr th {\n",
       "        vertical-align: top;\n",
       "    }\n",
       "\n",
       "    .dataframe thead th {\n",
       "        text-align: right;\n",
       "    }\n",
       "</style>\n",
       "<table border=\"1\" class=\"dataframe\">\n",
       "  <thead>\n",
       "    <tr style=\"text-align: right;\">\n",
       "      <th></th>\n",
       "      <th>Country_name</th>\n",
       "      <th>Regional_indicator</th>\n",
       "      <th>Ladder_score</th>\n",
       "      <th>Standard_error_of_ladder_score</th>\n",
       "      <th>upperwhisker</th>\n",
       "      <th>lowerwhisker</th>\n",
       "      <th>Logged_GDP_per_capita</th>\n",
       "      <th>Social_support</th>\n",
       "      <th>Healthy_life_expectancy</th>\n",
       "      <th>Freedom_to_make_life_choices</th>\n",
       "      <th>...</th>\n",
       "      <th>Explained_by:_Log_GDP_per_capita</th>\n",
       "      <th>Explained_by:_Social_support</th>\n",
       "      <th>Explained_by:_Healthy_life_expectancy</th>\n",
       "      <th>Explained_by:_Freedom_to_make_life_choices</th>\n",
       "      <th>Explained_by:_Generosity</th>\n",
       "      <th>Explained_by:_Perceptions_of_corruption</th>\n",
       "      <th>Dystopia_+_residual</th>\n",
       "      <th>Country/Region</th>\n",
       "      <th>num_max_increase</th>\n",
       "      <th>date_max_increase</th>\n",
       "    </tr>\n",
       "  </thead>\n",
       "  <tbody>\n",
       "    <tr>\n",
       "      <td>0</td>\n",
       "      <td>Finland</td>\n",
       "      <td>Western Europe</td>\n",
       "      <td>7.8087</td>\n",
       "      <td>0.031156</td>\n",
       "      <td>7.869766</td>\n",
       "      <td>7.747634</td>\n",
       "      <td>10.639267</td>\n",
       "      <td>0.954330</td>\n",
       "      <td>71.900825</td>\n",
       "      <td>0.949172</td>\n",
       "      <td>...</td>\n",
       "      <td>1.285190</td>\n",
       "      <td>1.499526</td>\n",
       "      <td>0.961271</td>\n",
       "      <td>0.662317</td>\n",
       "      <td>0.159670</td>\n",
       "      <td>0.477857</td>\n",
       "      <td>2.762835</td>\n",
       "      <td>Finland</td>\n",
       "      <td>267.0</td>\n",
       "      <td>4/4/20</td>\n",
       "    </tr>\n",
       "    <tr>\n",
       "      <td>1</td>\n",
       "      <td>Denmark</td>\n",
       "      <td>Western Europe</td>\n",
       "      <td>7.6456</td>\n",
       "      <td>0.033492</td>\n",
       "      <td>7.711245</td>\n",
       "      <td>7.579955</td>\n",
       "      <td>10.774001</td>\n",
       "      <td>0.955991</td>\n",
       "      <td>72.402504</td>\n",
       "      <td>0.951444</td>\n",
       "      <td>...</td>\n",
       "      <td>1.326949</td>\n",
       "      <td>1.503449</td>\n",
       "      <td>0.979333</td>\n",
       "      <td>0.665040</td>\n",
       "      <td>0.242793</td>\n",
       "      <td>0.495260</td>\n",
       "      <td>2.432741</td>\n",
       "      <td>Denmark</td>\n",
       "      <td>391.0</td>\n",
       "      <td>4/7/20</td>\n",
       "    </tr>\n",
       "    <tr>\n",
       "      <td>2</td>\n",
       "      <td>Switzerland</td>\n",
       "      <td>Western Europe</td>\n",
       "      <td>7.5599</td>\n",
       "      <td>0.035014</td>\n",
       "      <td>7.628528</td>\n",
       "      <td>7.491272</td>\n",
       "      <td>10.979933</td>\n",
       "      <td>0.942847</td>\n",
       "      <td>74.102448</td>\n",
       "      <td>0.921337</td>\n",
       "      <td>...</td>\n",
       "      <td>1.390774</td>\n",
       "      <td>1.472403</td>\n",
       "      <td>1.040533</td>\n",
       "      <td>0.628954</td>\n",
       "      <td>0.269056</td>\n",
       "      <td>0.407946</td>\n",
       "      <td>2.350267</td>\n",
       "      <td>Switzerland</td>\n",
       "      <td>1321.0</td>\n",
       "      <td>3/23/20</td>\n",
       "    </tr>\n",
       "    <tr>\n",
       "      <td>3</td>\n",
       "      <td>Iceland</td>\n",
       "      <td>Western Europe</td>\n",
       "      <td>7.5045</td>\n",
       "      <td>0.059616</td>\n",
       "      <td>7.621347</td>\n",
       "      <td>7.387653</td>\n",
       "      <td>10.772559</td>\n",
       "      <td>0.974670</td>\n",
       "      <td>73.000000</td>\n",
       "      <td>0.948892</td>\n",
       "      <td>...</td>\n",
       "      <td>1.326502</td>\n",
       "      <td>1.547567</td>\n",
       "      <td>1.000843</td>\n",
       "      <td>0.661981</td>\n",
       "      <td>0.362330</td>\n",
       "      <td>0.144541</td>\n",
       "      <td>2.460688</td>\n",
       "      <td>Iceland</td>\n",
       "      <td>99.0</td>\n",
       "      <td>4/2/20</td>\n",
       "    </tr>\n",
       "    <tr>\n",
       "      <td>4</td>\n",
       "      <td>Norway</td>\n",
       "      <td>Western Europe</td>\n",
       "      <td>7.4880</td>\n",
       "      <td>0.034837</td>\n",
       "      <td>7.556281</td>\n",
       "      <td>7.419719</td>\n",
       "      <td>11.087804</td>\n",
       "      <td>0.952487</td>\n",
       "      <td>73.200783</td>\n",
       "      <td>0.955750</td>\n",
       "      <td>...</td>\n",
       "      <td>1.424207</td>\n",
       "      <td>1.495173</td>\n",
       "      <td>1.008072</td>\n",
       "      <td>0.670201</td>\n",
       "      <td>0.287985</td>\n",
       "      <td>0.434101</td>\n",
       "      <td>2.168266</td>\n",
       "      <td>Norway</td>\n",
       "      <td>386.0</td>\n",
       "      <td>3/27/20</td>\n",
       "    </tr>\n",
       "    <tr>\n",
       "      <td>...</td>\n",
       "      <td>...</td>\n",
       "      <td>...</td>\n",
       "      <td>...</td>\n",
       "      <td>...</td>\n",
       "      <td>...</td>\n",
       "      <td>...</td>\n",
       "      <td>...</td>\n",
       "      <td>...</td>\n",
       "      <td>...</td>\n",
       "      <td>...</td>\n",
       "      <td>...</td>\n",
       "      <td>...</td>\n",
       "      <td>...</td>\n",
       "      <td>...</td>\n",
       "      <td>...</td>\n",
       "      <td>...</td>\n",
       "      <td>...</td>\n",
       "      <td>...</td>\n",
       "      <td>...</td>\n",
       "      <td>...</td>\n",
       "      <td>...</td>\n",
       "    </tr>\n",
       "    <tr>\n",
       "      <td>136</td>\n",
       "      <td>Central African Republic</td>\n",
       "      <td>Sub-Saharan Africa</td>\n",
       "      <td>3.4759</td>\n",
       "      <td>0.115183</td>\n",
       "      <td>3.701658</td>\n",
       "      <td>3.250141</td>\n",
       "      <td>6.625160</td>\n",
       "      <td>0.319460</td>\n",
       "      <td>45.200001</td>\n",
       "      <td>0.640881</td>\n",
       "      <td>...</td>\n",
       "      <td>0.041072</td>\n",
       "      <td>0.000000</td>\n",
       "      <td>0.000000</td>\n",
       "      <td>0.292814</td>\n",
       "      <td>0.253513</td>\n",
       "      <td>0.028265</td>\n",
       "      <td>2.860198</td>\n",
       "      <td>Central African Republic</td>\n",
       "      <td>31.0</td>\n",
       "      <td>4/28/20</td>\n",
       "    </tr>\n",
       "    <tr>\n",
       "      <td>137</td>\n",
       "      <td>Rwanda</td>\n",
       "      <td>Sub-Saharan Africa</td>\n",
       "      <td>3.3123</td>\n",
       "      <td>0.052425</td>\n",
       "      <td>3.415053</td>\n",
       "      <td>3.209547</td>\n",
       "      <td>7.600104</td>\n",
       "      <td>0.540835</td>\n",
       "      <td>61.098846</td>\n",
       "      <td>0.900589</td>\n",
       "      <td>...</td>\n",
       "      <td>0.343243</td>\n",
       "      <td>0.522876</td>\n",
       "      <td>0.572383</td>\n",
       "      <td>0.604088</td>\n",
       "      <td>0.235705</td>\n",
       "      <td>0.485542</td>\n",
       "      <td>0.548445</td>\n",
       "      <td>Rwanda</td>\n",
       "      <td>22.0</td>\n",
       "      <td>4/24/20</td>\n",
       "    </tr>\n",
       "    <tr>\n",
       "      <td>138</td>\n",
       "      <td>Zimbabwe</td>\n",
       "      <td>Sub-Saharan Africa</td>\n",
       "      <td>3.2992</td>\n",
       "      <td>0.058674</td>\n",
       "      <td>3.414202</td>\n",
       "      <td>3.184198</td>\n",
       "      <td>7.865712</td>\n",
       "      <td>0.763093</td>\n",
       "      <td>55.617260</td>\n",
       "      <td>0.711458</td>\n",
       "      <td>...</td>\n",
       "      <td>0.425564</td>\n",
       "      <td>1.047835</td>\n",
       "      <td>0.375038</td>\n",
       "      <td>0.377405</td>\n",
       "      <td>0.151349</td>\n",
       "      <td>0.080929</td>\n",
       "      <td>0.841031</td>\n",
       "      <td>Zimbabwe</td>\n",
       "      <td>8.0</td>\n",
       "      <td>4/30/20</td>\n",
       "    </tr>\n",
       "    <tr>\n",
       "      <td>139</td>\n",
       "      <td>South Sudan</td>\n",
       "      <td>Sub-Saharan Africa</td>\n",
       "      <td>2.8166</td>\n",
       "      <td>0.107610</td>\n",
       "      <td>3.027516</td>\n",
       "      <td>2.605684</td>\n",
       "      <td>7.425360</td>\n",
       "      <td>0.553707</td>\n",
       "      <td>51.000000</td>\n",
       "      <td>0.451314</td>\n",
       "      <td>...</td>\n",
       "      <td>0.289083</td>\n",
       "      <td>0.553279</td>\n",
       "      <td>0.208809</td>\n",
       "      <td>0.065609</td>\n",
       "      <td>0.209935</td>\n",
       "      <td>0.111157</td>\n",
       "      <td>1.378751</td>\n",
       "      <td>South Sudan</td>\n",
       "      <td>28.0</td>\n",
       "      <td>4/28/20</td>\n",
       "    </tr>\n",
       "    <tr>\n",
       "      <td>140</td>\n",
       "      <td>Afghanistan</td>\n",
       "      <td>South Asia</td>\n",
       "      <td>2.5669</td>\n",
       "      <td>0.031311</td>\n",
       "      <td>2.628270</td>\n",
       "      <td>2.505530</td>\n",
       "      <td>7.462861</td>\n",
       "      <td>0.470367</td>\n",
       "      <td>52.590000</td>\n",
       "      <td>0.396573</td>\n",
       "      <td>...</td>\n",
       "      <td>0.300706</td>\n",
       "      <td>0.356434</td>\n",
       "      <td>0.266052</td>\n",
       "      <td>0.000000</td>\n",
       "      <td>0.135235</td>\n",
       "      <td>0.001226</td>\n",
       "      <td>1.507236</td>\n",
       "      <td>Afghanistan</td>\n",
       "      <td>232.0</td>\n",
       "      <td>4/30/20</td>\n",
       "    </tr>\n",
       "  </tbody>\n",
       "</table>\n",
       "<p>141 rows × 23 columns</p>\n",
       "</div>"
      ],
      "text/plain": [
       "                 Country_name  Regional_indicator  Ladder_score  \\\n",
       "0                     Finland      Western Europe        7.8087   \n",
       "1                     Denmark      Western Europe        7.6456   \n",
       "2                 Switzerland      Western Europe        7.5599   \n",
       "3                     Iceland      Western Europe        7.5045   \n",
       "4                      Norway      Western Europe        7.4880   \n",
       "..                        ...                 ...           ...   \n",
       "136  Central African Republic  Sub-Saharan Africa        3.4759   \n",
       "137                    Rwanda  Sub-Saharan Africa        3.3123   \n",
       "138                  Zimbabwe  Sub-Saharan Africa        3.2992   \n",
       "139               South Sudan  Sub-Saharan Africa        2.8166   \n",
       "140               Afghanistan          South Asia        2.5669   \n",
       "\n",
       "     Standard_error_of_ladder_score  upperwhisker  lowerwhisker  \\\n",
       "0                          0.031156      7.869766      7.747634   \n",
       "1                          0.033492      7.711245      7.579955   \n",
       "2                          0.035014      7.628528      7.491272   \n",
       "3                          0.059616      7.621347      7.387653   \n",
       "4                          0.034837      7.556281      7.419719   \n",
       "..                              ...           ...           ...   \n",
       "136                        0.115183      3.701658      3.250141   \n",
       "137                        0.052425      3.415053      3.209547   \n",
       "138                        0.058674      3.414202      3.184198   \n",
       "139                        0.107610      3.027516      2.605684   \n",
       "140                        0.031311      2.628270      2.505530   \n",
       "\n",
       "     Logged_GDP_per_capita  Social_support  Healthy_life_expectancy  \\\n",
       "0                10.639267        0.954330                71.900825   \n",
       "1                10.774001        0.955991                72.402504   \n",
       "2                10.979933        0.942847                74.102448   \n",
       "3                10.772559        0.974670                73.000000   \n",
       "4                11.087804        0.952487                73.200783   \n",
       "..                     ...             ...                      ...   \n",
       "136               6.625160        0.319460                45.200001   \n",
       "137               7.600104        0.540835                61.098846   \n",
       "138               7.865712        0.763093                55.617260   \n",
       "139               7.425360        0.553707                51.000000   \n",
       "140               7.462861        0.470367                52.590000   \n",
       "\n",
       "     Freedom_to_make_life_choices  ...  Explained_by:_Log_GDP_per_capita  \\\n",
       "0                        0.949172  ...                          1.285190   \n",
       "1                        0.951444  ...                          1.326949   \n",
       "2                        0.921337  ...                          1.390774   \n",
       "3                        0.948892  ...                          1.326502   \n",
       "4                        0.955750  ...                          1.424207   \n",
       "..                            ...  ...                               ...   \n",
       "136                      0.640881  ...                          0.041072   \n",
       "137                      0.900589  ...                          0.343243   \n",
       "138                      0.711458  ...                          0.425564   \n",
       "139                      0.451314  ...                          0.289083   \n",
       "140                      0.396573  ...                          0.300706   \n",
       "\n",
       "     Explained_by:_Social_support  Explained_by:_Healthy_life_expectancy  \\\n",
       "0                        1.499526                               0.961271   \n",
       "1                        1.503449                               0.979333   \n",
       "2                        1.472403                               1.040533   \n",
       "3                        1.547567                               1.000843   \n",
       "4                        1.495173                               1.008072   \n",
       "..                            ...                                    ...   \n",
       "136                      0.000000                               0.000000   \n",
       "137                      0.522876                               0.572383   \n",
       "138                      1.047835                               0.375038   \n",
       "139                      0.553279                               0.208809   \n",
       "140                      0.356434                               0.266052   \n",
       "\n",
       "     Explained_by:_Freedom_to_make_life_choices  Explained_by:_Generosity  \\\n",
       "0                                      0.662317                  0.159670   \n",
       "1                                      0.665040                  0.242793   \n",
       "2                                      0.628954                  0.269056   \n",
       "3                                      0.661981                  0.362330   \n",
       "4                                      0.670201                  0.287985   \n",
       "..                                          ...                       ...   \n",
       "136                                    0.292814                  0.253513   \n",
       "137                                    0.604088                  0.235705   \n",
       "138                                    0.377405                  0.151349   \n",
       "139                                    0.065609                  0.209935   \n",
       "140                                    0.000000                  0.135235   \n",
       "\n",
       "     Explained_by:_Perceptions_of_corruption  Dystopia_+_residual  \\\n",
       "0                                   0.477857             2.762835   \n",
       "1                                   0.495260             2.432741   \n",
       "2                                   0.407946             2.350267   \n",
       "3                                   0.144541             2.460688   \n",
       "4                                   0.434101             2.168266   \n",
       "..                                       ...                  ...   \n",
       "136                                 0.028265             2.860198   \n",
       "137                                 0.485542             0.548445   \n",
       "138                                 0.080929             0.841031   \n",
       "139                                 0.111157             1.378751   \n",
       "140                                 0.001226             1.507236   \n",
       "\n",
       "               Country/Region  num_max_increase  date_max_increase  \n",
       "0                     Finland             267.0             4/4/20  \n",
       "1                     Denmark             391.0             4/7/20  \n",
       "2                 Switzerland            1321.0            3/23/20  \n",
       "3                     Iceland              99.0             4/2/20  \n",
       "4                      Norway             386.0            3/27/20  \n",
       "..                        ...               ...                ...  \n",
       "136  Central African Republic              31.0            4/28/20  \n",
       "137                    Rwanda              22.0            4/24/20  \n",
       "138                  Zimbabwe               8.0            4/30/20  \n",
       "139               South Sudan              28.0            4/28/20  \n",
       "140               Afghanistan             232.0            4/30/20  \n",
       "\n",
       "[141 rows x 23 columns]"
      ]
     },
     "execution_count": 14,
     "metadata": {},
     "output_type": "execute_result"
    }
   ],
   "source": [
    "# Merge\n",
    "happy_confirmed = happy_2020.merge(df_max_increase,\n",
    "                                   left_on='Country_name',\n",
    "                                   right_on='Country/Region',\n",
    "                                   suffixes=['_happy', '_confirmed'])\n",
    "\n",
    "happy_confirmed"
   ]
  },
  {
   "cell_type": "code",
   "execution_count": 15,
   "metadata": {
    "colab": {
     "base_uri": "https://localhost:8080/",
     "height": 314
    },
    "colab_type": "code",
    "executionInfo": {
     "elapsed": 5689,
     "status": "ok",
     "timestamp": 1597097586356,
     "user": {
      "displayName": "Samir Epili",
      "photoUrl": "",
      "userId": "17793813043662774071"
     },
     "user_tz": 300
    },
    "id": "ggTrUWLK3DZt",
    "outputId": "940eaaf4-3b73-4f6e-f3d9-945ffe821bb5"
   },
   "outputs": [
    {
     "data": {
      "text/html": [
       "<div>\n",
       "<style scoped>\n",
       "    .dataframe tbody tr th:only-of-type {\n",
       "        vertical-align: middle;\n",
       "    }\n",
       "\n",
       "    .dataframe tbody tr th {\n",
       "        vertical-align: top;\n",
       "    }\n",
       "\n",
       "    .dataframe thead th {\n",
       "        text-align: right;\n",
       "    }\n",
       "</style>\n",
       "<table border=\"1\" class=\"dataframe\">\n",
       "  <thead>\n",
       "    <tr style=\"text-align: right;\">\n",
       "      <th></th>\n",
       "      <th>Ladder_score</th>\n",
       "      <th>Logged_GDP_per_capita</th>\n",
       "      <th>Social_support</th>\n",
       "      <th>Healthy_life_expectancy</th>\n",
       "      <th>Freedom_to_make_life_choices</th>\n",
       "      <th>Generosity</th>\n",
       "      <th>Perceptions_of_corruption</th>\n",
       "      <th>num_max_increase</th>\n",
       "    </tr>\n",
       "  </thead>\n",
       "  <tbody>\n",
       "    <tr>\n",
       "      <td>Ladder_score</td>\n",
       "      <td>1.000000</td>\n",
       "      <td>0.782539</td>\n",
       "      <td>0.783242</td>\n",
       "      <td>0.787063</td>\n",
       "      <td>0.609026</td>\n",
       "      <td>0.099570</td>\n",
       "      <td>-0.436356</td>\n",
       "      <td>0.227834</td>\n",
       "    </tr>\n",
       "    <tr>\n",
       "      <td>Logged_GDP_per_capita</td>\n",
       "      <td>0.782539</td>\n",
       "      <td>1.000000</td>\n",
       "      <td>0.791659</td>\n",
       "      <td>0.860247</td>\n",
       "      <td>0.441095</td>\n",
       "      <td>-0.132541</td>\n",
       "      <td>-0.334711</td>\n",
       "      <td>0.259501</td>\n",
       "    </tr>\n",
       "    <tr>\n",
       "      <td>Social_support</td>\n",
       "      <td>0.783242</td>\n",
       "      <td>0.791659</td>\n",
       "      <td>1.000000</td>\n",
       "      <td>0.777790</td>\n",
       "      <td>0.487815</td>\n",
       "      <td>-0.065406</td>\n",
       "      <td>-0.224362</td>\n",
       "      <td>0.189993</td>\n",
       "    </tr>\n",
       "    <tr>\n",
       "      <td>Healthy_life_expectancy</td>\n",
       "      <td>0.787063</td>\n",
       "      <td>0.860247</td>\n",
       "      <td>0.777790</td>\n",
       "      <td>1.000000</td>\n",
       "      <td>0.483023</td>\n",
       "      <td>-0.098150</td>\n",
       "      <td>-0.357727</td>\n",
       "      <td>0.241400</td>\n",
       "    </tr>\n",
       "    <tr>\n",
       "      <td>Freedom_to_make_life_choices</td>\n",
       "      <td>0.609026</td>\n",
       "      <td>0.441095</td>\n",
       "      <td>0.487815</td>\n",
       "      <td>0.483023</td>\n",
       "      <td>1.000000</td>\n",
       "      <td>0.230694</td>\n",
       "      <td>-0.428128</td>\n",
       "      <td>0.082635</td>\n",
       "    </tr>\n",
       "    <tr>\n",
       "      <td>Generosity</td>\n",
       "      <td>0.099570</td>\n",
       "      <td>-0.132541</td>\n",
       "      <td>-0.065406</td>\n",
       "      <td>-0.098150</td>\n",
       "      <td>0.230694</td>\n",
       "      <td>1.000000</td>\n",
       "      <td>-0.274708</td>\n",
       "      <td>-0.008019</td>\n",
       "    </tr>\n",
       "    <tr>\n",
       "      <td>Perceptions_of_corruption</td>\n",
       "      <td>-0.436356</td>\n",
       "      <td>-0.334711</td>\n",
       "      <td>-0.224362</td>\n",
       "      <td>-0.357727</td>\n",
       "      <td>-0.428128</td>\n",
       "      <td>-0.274708</td>\n",
       "      <td>1.000000</td>\n",
       "      <td>-0.084871</td>\n",
       "    </tr>\n",
       "    <tr>\n",
       "      <td>num_max_increase</td>\n",
       "      <td>0.227834</td>\n",
       "      <td>0.259501</td>\n",
       "      <td>0.189993</td>\n",
       "      <td>0.241400</td>\n",
       "      <td>0.082635</td>\n",
       "      <td>-0.008019</td>\n",
       "      <td>-0.084871</td>\n",
       "      <td>1.000000</td>\n",
       "    </tr>\n",
       "  </tbody>\n",
       "</table>\n",
       "</div>"
      ],
      "text/plain": [
       "                              Ladder_score  Logged_GDP_per_capita  \\\n",
       "Ladder_score                      1.000000               0.782539   \n",
       "Logged_GDP_per_capita             0.782539               1.000000   \n",
       "Social_support                    0.783242               0.791659   \n",
       "Healthy_life_expectancy           0.787063               0.860247   \n",
       "Freedom_to_make_life_choices      0.609026               0.441095   \n",
       "Generosity                        0.099570              -0.132541   \n",
       "Perceptions_of_corruption        -0.436356              -0.334711   \n",
       "num_max_increase                  0.227834               0.259501   \n",
       "\n",
       "                              Social_support  Healthy_life_expectancy  \\\n",
       "Ladder_score                        0.783242                 0.787063   \n",
       "Logged_GDP_per_capita               0.791659                 0.860247   \n",
       "Social_support                      1.000000                 0.777790   \n",
       "Healthy_life_expectancy             0.777790                 1.000000   \n",
       "Freedom_to_make_life_choices        0.487815                 0.483023   \n",
       "Generosity                         -0.065406                -0.098150   \n",
       "Perceptions_of_corruption          -0.224362                -0.357727   \n",
       "num_max_increase                    0.189993                 0.241400   \n",
       "\n",
       "                              Freedom_to_make_life_choices  Generosity  \\\n",
       "Ladder_score                                      0.609026    0.099570   \n",
       "Logged_GDP_per_capita                             0.441095   -0.132541   \n",
       "Social_support                                    0.487815   -0.065406   \n",
       "Healthy_life_expectancy                           0.483023   -0.098150   \n",
       "Freedom_to_make_life_choices                      1.000000    0.230694   \n",
       "Generosity                                        0.230694    1.000000   \n",
       "Perceptions_of_corruption                        -0.428128   -0.274708   \n",
       "num_max_increase                                  0.082635   -0.008019   \n",
       "\n",
       "                              Perceptions_of_corruption  num_max_increase  \n",
       "Ladder_score                                  -0.436356          0.227834  \n",
       "Logged_GDP_per_capita                         -0.334711          0.259501  \n",
       "Social_support                                -0.224362          0.189993  \n",
       "Healthy_life_expectancy                       -0.357727          0.241400  \n",
       "Freedom_to_make_life_choices                  -0.428128          0.082635  \n",
       "Generosity                                    -0.274708         -0.008019  \n",
       "Perceptions_of_corruption                      1.000000         -0.084871  \n",
       "num_max_increase                              -0.084871          1.000000  "
      ]
     },
     "execution_count": 15,
     "metadata": {},
     "output_type": "execute_result"
    }
   ],
   "source": [
    "happy_confirmed_cleaned = happy_confirmed.drop(['Standard_error_of_ladder_score','upperwhisker','lowerwhisker','Ladder_score_in_Dystopia','Explained_by:_Log_GDP_per_capita','Explained_by:_Social_support','Explained_by:_Healthy_life_expectancy','Explained_by:_Freedom_to_make_life_choices','Explained_by:_Generosity','Explained_by:_Perceptions_of_corruption','Dystopia_+_residual'],axis=1)\n",
    "happy_confirmed_cleaned.corr()"
   ]
  },
  {
   "cell_type": "code",
   "execution_count": 16,
   "metadata": {
    "colab": {
     "base_uri": "https://localhost:8080/",
     "height": 607
    },
    "colab_type": "code",
    "executionInfo": {
     "elapsed": 6002,
     "status": "ok",
     "timestamp": 1597097586688,
     "user": {
      "displayName": "Samir Epili",
      "photoUrl": "",
      "userId": "17793813043662774071"
     },
     "user_tz": 300
    },
    "id": "ASlNYpPmJvYK",
    "outputId": "4c720610-42b4-43bf-e14d-900646a00046"
   },
   "outputs": [
    {
     "name": "stdout",
     "output_type": "stream",
     "text": [
      "                            OLS Regression Results                            \n",
      "==============================================================================\n",
      "Dep. Variable:       num_max_increase   R-squared:                       0.052\n",
      "Model:                            OLS   Adj. R-squared:                  0.045\n",
      "Method:                 Least Squares   F-statistic:                     7.610\n",
      "Date:                Thu, 10 Sep 2020   Prob (F-statistic):            0.00659\n",
      "Time:                        16:39:47   Log-Likelihood:                -1375.8\n",
      "No. Observations:                 141   AIC:                             2756.\n",
      "Df Residuals:                     139   BIC:                             2762.\n",
      "Df Model:                           1                                         \n",
      "Covariance Type:            nonrobust                                         \n",
      "================================================================================\n",
      "                   coef    std err          t      P>|t|      [0.025      0.975]\n",
      "--------------------------------------------------------------------------------\n",
      "Intercept    -3436.3872   1772.916     -1.938      0.055   -6941.757      68.982\n",
      "Ladder_score   872.0673    316.118      2.759      0.007     247.046    1497.088\n",
      "==============================================================================\n",
      "Omnibus:                      193.875   Durbin-Watson:                   1.865\n",
      "Prob(Omnibus):                  0.000   Jarque-Bera (JB):             8356.546\n",
      "Skew:                           5.529   Prob(JB):                         0.00\n",
      "Kurtosis:                      39.057   Cond. No.                         28.9\n",
      "==============================================================================\n",
      "\n",
      "Warnings:\n",
      "[1] Standard Errors assume that the covariance matrix of the errors is correctly specified.\n",
      "Params\n",
      "Intercept      -3436.387212\n",
      "Ladder_score     872.067322\n",
      "dtype: float64\n",
      "R-squared = 0.05190839419569593\n",
      "P-values\n",
      "Intercept       0.054617\n",
      "Ladder_score    0.006585\n",
      "dtype: float64\n"
     ]
    }
   ],
   "source": [
    "# Regression for confirmed using happiness\n",
    "pred_str = make_vars([2]) #change numbers from 2, 6-11 for different happiness variables. 2, 6-9 seem to be better. 6 (Logged GDP/capita) is best.\n",
    "\n",
    "y, X = dmatrices('num_max_increase ~ '+ pred_str, data=happy_confirmed_cleaned, return_type='dataframe')\n",
    "model = sm.OLS(y, X)       # Set up the model\n",
    "result = model.fit()       # Fit model\n",
    "print(result.summary())\n",
    "\n",
    "print('Params')\n",
    "print(result.params)\n",
    "print\n",
    "print('R-squared =', result.rsquared)\n",
    "print('P-values')\n",
    "print(result.pvalues)"
   ]
  },
  {
   "cell_type": "markdown",
   "metadata": {
    "colab_type": "text",
    "id": "sEoFlP5BhaFN"
   },
   "source": [
    "R^2 on these models is horrible because did not check for homoscedasticity prior to the linear regression."
   ]
  },
  {
   "cell_type": "code",
   "execution_count": 17,
   "metadata": {
    "colab": {
     "base_uri": "https://localhost:8080/",
     "height": 297
    },
    "colab_type": "code",
    "executionInfo": {
     "elapsed": 5985,
     "status": "ok",
     "timestamp": 1597097586689,
     "user": {
      "displayName": "Samir Epili",
      "photoUrl": "",
      "userId": "17793813043662774071"
     },
     "user_tz": 300
    },
    "id": "GC5IhgvgJy5_",
    "outputId": "0eae18b1-2b77-4d78-d16c-b7904217c742"
   },
   "outputs": [
    {
     "data": {
      "text/plain": [
       "Text(0, 0.5, 'num max increase')"
      ]
     },
     "execution_count": 17,
     "metadata": {},
     "output_type": "execute_result"
    },
    {
     "data": {
      "image/png": "[encoded data removed]",
      "text/plain": [
       "<Figure size 432x288 with 1 Axes>"
      ]
     },
     "metadata": {
      "needs_background": "light"
     },
     "output_type": "display_data"
    }
   ],
   "source": [
    "plot(happy_confirmed_cleaned['Ladder_score'], happy_confirmed_cleaned['num_max_increase'], marker='o', color='blue', linestyle='none')\n",
    "xlabel('Ladder score')\n",
    "ylabel('num max increase')\n",
    "#not homoscedastic"
   ]
  },
  {
   "cell_type": "code",
   "execution_count": 18,
   "metadata": {
    "colab": {
     "base_uri": "https://localhost:8080/",
     "height": 297
    },
    "colab_type": "code",
    "executionInfo": {
     "elapsed": 6531,
     "status": "ok",
     "timestamp": 1597097587254,
     "user": {
      "displayName": "Samir Epili",
      "photoUrl": "",
      "userId": "17793813043662774071"
     },
     "user_tz": 300
    },
    "id": "JbBRBL7Jhqe7",
    "outputId": "1fa6442a-9419-4d19-b5dc-a55a109d0874"
   },
   "outputs": [
    {
     "data": {
      "text/plain": [
       "Text(0, 0.5, 'log num max increase')"
      ]
     },
     "execution_count": 18,
     "metadata": {},
     "output_type": "execute_result"
    },
    {
     "data": {
      "image/png": "[encoded data removed]",
      "text/plain": [
       "<Figure size 432x288 with 1 Axes>"
      ]
     },
     "metadata": {
      "needs_background": "light"
     },
     "output_type": "display_data"
    }
   ],
   "source": [
    "plot(happy_confirmed_cleaned['Ladder_score'], log(happy_confirmed_cleaned['num_max_increase']), marker='o', color='blue', linestyle='none')\n",
    "xlabel('Ladder score')\n",
    "ylabel('log num max increase')"
   ]
  },
  {
   "cell_type": "code",
   "execution_count": 19,
   "metadata": {
    "colab": {},
    "colab_type": "code",
    "executionInfo": {
     "elapsed": 6530,
     "status": "ok",
     "timestamp": 1597097587257,
     "user": {
      "displayName": "Samir Epili",
      "photoUrl": "",
      "userId": "17793813043662774071"
     },
     "user_tz": 300
    },
    "id": "iF-BYISthzrs"
   },
   "outputs": [],
   "source": [
    "#corrected dataset:\n",
    "\n",
    "happy_confirmed_cleaned['log_num_max_increase'] = happy_confirmed_cleaned['num_max_increase'].apply('log')"
   ]
  },
  {
   "cell_type": "code",
   "execution_count": 20,
   "metadata": {
    "colab": {
     "base_uri": "https://localhost:8080/",
     "height": 345
    },
    "colab_type": "code",
    "executionInfo": {
     "elapsed": 6502,
     "status": "ok",
     "timestamp": 1597097587259,
     "user": {
      "displayName": "Samir Epili",
      "photoUrl": "",
      "userId": "17793813043662774071"
     },
     "user_tz": 300
    },
    "id": "WnEJ3mRwixCG",
    "outputId": "df3e9e64-4956-45ff-fcfe-1f2992c650ac"
   },
   "outputs": [
    {
     "data": {
      "text/html": [
       "<div>\n",
       "<style scoped>\n",
       "    .dataframe tbody tr th:only-of-type {\n",
       "        vertical-align: middle;\n",
       "    }\n",
       "\n",
       "    .dataframe tbody tr th {\n",
       "        vertical-align: top;\n",
       "    }\n",
       "\n",
       "    .dataframe thead th {\n",
       "        text-align: right;\n",
       "    }\n",
       "</style>\n",
       "<table border=\"1\" class=\"dataframe\">\n",
       "  <thead>\n",
       "    <tr style=\"text-align: right;\">\n",
       "      <th></th>\n",
       "      <th>Ladder_score</th>\n",
       "      <th>Logged_GDP_per_capita</th>\n",
       "      <th>Social_support</th>\n",
       "      <th>Healthy_life_expectancy</th>\n",
       "      <th>Freedom_to_make_life_choices</th>\n",
       "      <th>Generosity</th>\n",
       "      <th>Perceptions_of_corruption</th>\n",
       "      <th>num_max_increase</th>\n",
       "      <th>log_num_max_increase</th>\n",
       "    </tr>\n",
       "  </thead>\n",
       "  <tbody>\n",
       "    <tr>\n",
       "      <td>Ladder_score</td>\n",
       "      <td>1.000000</td>\n",
       "      <td>0.782539</td>\n",
       "      <td>0.783242</td>\n",
       "      <td>0.787063</td>\n",
       "      <td>0.609026</td>\n",
       "      <td>0.099570</td>\n",
       "      <td>-0.436356</td>\n",
       "      <td>0.227834</td>\n",
       "      <td>0.515020</td>\n",
       "    </tr>\n",
       "    <tr>\n",
       "      <td>Logged_GDP_per_capita</td>\n",
       "      <td>0.782539</td>\n",
       "      <td>1.000000</td>\n",
       "      <td>0.791659</td>\n",
       "      <td>0.860247</td>\n",
       "      <td>0.441095</td>\n",
       "      <td>-0.132541</td>\n",
       "      <td>-0.334711</td>\n",
       "      <td>0.259501</td>\n",
       "      <td>0.594285</td>\n",
       "    </tr>\n",
       "    <tr>\n",
       "      <td>Social_support</td>\n",
       "      <td>0.783242</td>\n",
       "      <td>0.791659</td>\n",
       "      <td>1.000000</td>\n",
       "      <td>0.777790</td>\n",
       "      <td>0.487815</td>\n",
       "      <td>-0.065406</td>\n",
       "      <td>-0.224362</td>\n",
       "      <td>0.189993</td>\n",
       "      <td>0.404775</td>\n",
       "    </tr>\n",
       "    <tr>\n",
       "      <td>Healthy_life_expectancy</td>\n",
       "      <td>0.787063</td>\n",
       "      <td>0.860247</td>\n",
       "      <td>0.777790</td>\n",
       "      <td>1.000000</td>\n",
       "      <td>0.483023</td>\n",
       "      <td>-0.098150</td>\n",
       "      <td>-0.357727</td>\n",
       "      <td>0.241400</td>\n",
       "      <td>0.541677</td>\n",
       "    </tr>\n",
       "    <tr>\n",
       "      <td>Freedom_to_make_life_choices</td>\n",
       "      <td>0.609026</td>\n",
       "      <td>0.441095</td>\n",
       "      <td>0.487815</td>\n",
       "      <td>0.483023</td>\n",
       "      <td>1.000000</td>\n",
       "      <td>0.230694</td>\n",
       "      <td>-0.428128</td>\n",
       "      <td>0.082635</td>\n",
       "      <td>0.253753</td>\n",
       "    </tr>\n",
       "    <tr>\n",
       "      <td>Generosity</td>\n",
       "      <td>0.099570</td>\n",
       "      <td>-0.132541</td>\n",
       "      <td>-0.065406</td>\n",
       "      <td>-0.098150</td>\n",
       "      <td>0.230694</td>\n",
       "      <td>1.000000</td>\n",
       "      <td>-0.274708</td>\n",
       "      <td>-0.008019</td>\n",
       "      <td>-0.070646</td>\n",
       "    </tr>\n",
       "    <tr>\n",
       "      <td>Perceptions_of_corruption</td>\n",
       "      <td>-0.436356</td>\n",
       "      <td>-0.334711</td>\n",
       "      <td>-0.224362</td>\n",
       "      <td>-0.357727</td>\n",
       "      <td>-0.428128</td>\n",
       "      <td>-0.274708</td>\n",
       "      <td>1.000000</td>\n",
       "      <td>-0.084871</td>\n",
       "      <td>-0.193777</td>\n",
       "    </tr>\n",
       "    <tr>\n",
       "      <td>num_max_increase</td>\n",
       "      <td>0.227834</td>\n",
       "      <td>0.259501</td>\n",
       "      <td>0.189993</td>\n",
       "      <td>0.241400</td>\n",
       "      <td>0.082635</td>\n",
       "      <td>-0.008019</td>\n",
       "      <td>-0.084871</td>\n",
       "      <td>1.000000</td>\n",
       "      <td>0.588838</td>\n",
       "    </tr>\n",
       "    <tr>\n",
       "      <td>log_num_max_increase</td>\n",
       "      <td>0.515020</td>\n",
       "      <td>0.594285</td>\n",
       "      <td>0.404775</td>\n",
       "      <td>0.541677</td>\n",
       "      <td>0.253753</td>\n",
       "      <td>-0.070646</td>\n",
       "      <td>-0.193777</td>\n",
       "      <td>0.588838</td>\n",
       "      <td>1.000000</td>\n",
       "    </tr>\n",
       "  </tbody>\n",
       "</table>\n",
       "</div>"
      ],
      "text/plain": [
       "                              Ladder_score  Logged_GDP_per_capita  \\\n",
       "Ladder_score                      1.000000               0.782539   \n",
       "Logged_GDP_per_capita             0.782539               1.000000   \n",
       "Social_support                    0.783242               0.791659   \n",
       "Healthy_life_expectancy           0.787063               0.860247   \n",
       "Freedom_to_make_life_choices      0.609026               0.441095   \n",
       "Generosity                        0.099570              -0.132541   \n",
       "Perceptions_of_corruption        -0.436356              -0.334711   \n",
       "num_max_increase                  0.227834               0.259501   \n",
       "log_num_max_increase              0.515020               0.594285   \n",
       "\n",
       "                              Social_support  Healthy_life_expectancy  \\\n",
       "Ladder_score                        0.783242                 0.787063   \n",
       "Logged_GDP_per_capita               0.791659                 0.860247   \n",
       "Social_support                      1.000000                 0.777790   \n",
       "Healthy_life_expectancy             0.777790                 1.000000   \n",
       "Freedom_to_make_life_choices        0.487815                 0.483023   \n",
       "Generosity                         -0.065406                -0.098150   \n",
       "Perceptions_of_corruption          -0.224362                -0.357727   \n",
       "num_max_increase                    0.189993                 0.241400   \n",
       "log_num_max_increase                0.404775                 0.541677   \n",
       "\n",
       "                              Freedom_to_make_life_choices  Generosity  \\\n",
       "Ladder_score                                      0.609026    0.099570   \n",
       "Logged_GDP_per_capita                             0.441095   -0.132541   \n",
       "Social_support                                    0.487815   -0.065406   \n",
       "Healthy_life_expectancy                           0.483023   -0.098150   \n",
       "Freedom_to_make_life_choices                      1.000000    0.230694   \n",
       "Generosity                                        0.230694    1.000000   \n",
       "Perceptions_of_corruption                        -0.428128   -0.274708   \n",
       "num_max_increase                                  0.082635   -0.008019   \n",
       "log_num_max_increase                              0.253753   -0.070646   \n",
       "\n",
       "                              Perceptions_of_corruption  num_max_increase  \\\n",
       "Ladder_score                                  -0.436356          0.227834   \n",
       "Logged_GDP_per_capita                         -0.334711          0.259501   \n",
       "Social_support                                -0.224362          0.189993   \n",
       "Healthy_life_expectancy                       -0.357727          0.241400   \n",
       "Freedom_to_make_life_choices                  -0.428128          0.082635   \n",
       "Generosity                                    -0.274708         -0.008019   \n",
       "Perceptions_of_corruption                      1.000000         -0.084871   \n",
       "num_max_increase                              -0.084871          1.000000   \n",
       "log_num_max_increase                          -0.193777          0.588838   \n",
       "\n",
       "                              log_num_max_increase  \n",
       "Ladder_score                              0.515020  \n",
       "Logged_GDP_per_capita                     0.594285  \n",
       "Social_support                            0.404775  \n",
       "Healthy_life_expectancy                   0.541677  \n",
       "Freedom_to_make_life_choices              0.253753  \n",
       "Generosity                               -0.070646  \n",
       "Perceptions_of_corruption                -0.193777  \n",
       "num_max_increase                          0.588838  \n",
       "log_num_max_increase                      1.000000  "
      ]
     },
     "execution_count": 20,
     "metadata": {},
     "output_type": "execute_result"
    }
   ],
   "source": [
    "happy_confirmed_cleaned.corr()"
   ]
  },
  {
   "cell_type": "code",
   "execution_count": 21,
   "metadata": {
    "colab": {
     "base_uri": "https://localhost:8080/",
     "height": 191
    },
    "colab_type": "code",
    "executionInfo": {
     "elapsed": 6482,
     "status": "ok",
     "timestamp": 1597097587260,
     "user": {
      "displayName": "Samir Epili",
      "photoUrl": "",
      "userId": "17793813043662774071"
     },
     "user_tz": 300
    },
    "id": "mIr1I6Lm2Ove",
    "outputId": "b1996df0-c027-46ec-d72b-29c065a37c7c"
   },
   "outputs": [
    {
     "data": {
      "text/plain": [
       "Ladder_score                       1.126390\n",
       "Logged_GDP_per_capita              1.213551\n",
       "Social_support                     0.124593\n",
       "Healthy_life_expectancy            6.799622\n",
       "Freedom_to_make_life_choices       0.120061\n",
       "Generosity                         0.145981\n",
       "Perceptions_of_corruption          0.178300\n",
       "num_max_increase                4311.418169\n",
       "log_num_max_increase               2.132438\n",
       "dtype: float64"
      ]
     },
     "execution_count": 21,
     "metadata": {},
     "output_type": "execute_result"
    }
   ],
   "source": [
    "happy_confirmed_cleaned.std(axis=0)"
   ]
  },
  {
   "cell_type": "code",
   "execution_count": 22,
   "metadata": {
    "colab": {
     "base_uri": "https://localhost:8080/",
     "height": 607
    },
    "colab_type": "code",
    "executionInfo": {
     "elapsed": 6461,
     "status": "ok",
     "timestamp": 1597097587262,
     "user": {
      "displayName": "Samir Epili",
      "photoUrl": "",
      "userId": "17793813043662774071"
     },
     "user_tz": 300
    },
    "id": "hoXHj9qxh7-v",
    "outputId": "95088e1a-cb62-4dbf-ff66-66a4aec128d1"
   },
   "outputs": [
    {
     "name": "stdout",
     "output_type": "stream",
     "text": [
      "                             OLS Regression Results                             \n",
      "================================================================================\n",
      "Dep. Variable:     log_num_max_increase   R-squared:                       0.243\n",
      "Model:                              OLS   Adj. R-squared:                  0.235\n",
      "Method:                   Least Squares   F-statistic:                     30.79\n",
      "Date:                  Thu, 10 Sep 2020   Prob (F-statistic):           2.54e-07\n",
      "Time:                          16:39:48   Log-Likelihood:                -196.18\n",
      "No. Observations:                    98   AIC:                             396.4\n",
      "Df Residuals:                        96   BIC:                             401.5\n",
      "Df Model:                             1                                         \n",
      "Covariance Type:              nonrobust                                         \n",
      "================================================================================\n",
      "                   coef    std err          t      P>|t|      [0.025      0.975]\n",
      "--------------------------------------------------------------------------------\n",
      "Intercept        0.1428      0.866      0.165      0.869      -1.577       1.862\n",
      "Ladder_score     0.8630      0.156      5.549      0.000       0.554       1.172\n",
      "==============================================================================\n",
      "Omnibus:                        3.926   Durbin-Watson:                   1.888\n",
      "Prob(Omnibus):                  0.140   Jarque-Bera (JB):                3.276\n",
      "Skew:                           0.419   Prob(JB):                        0.194\n",
      "Kurtosis:                       3.315   Cond. No.                         27.2\n",
      "==============================================================================\n",
      "\n",
      "Warnings:\n",
      "[1] Standard Errors assume that the covariance matrix of the errors is correctly specified.\n",
      "Params\n",
      "Intercept       0.142794\n",
      "Ladder_score    0.863049\n",
      "dtype: float64\n",
      "R-squared = 0.24282753045545902\n",
      "P-values\n",
      "Intercept       8.694185e-01\n",
      "Ladder_score    2.543878e-07\n",
      "dtype: float64\n"
     ]
    }
   ],
   "source": [
    "# Regression for confirmed using predictors of happiness\n",
    "pred_str = make_vars([2]) #change numbers from 2, 6-11 for different happiness variables. 2, 6-9 seem to be the best\n",
    "\n",
    "Y, X = dmatrices('log_num_max_increase ~ '+ pred_str, data=happy_confirmed_cleaned, return_type='dataframe')\n",
    "\n",
    "from sklearn.model_selection import train_test_split\n",
    "X_train, X_test, y_train, y_test = train_test_split(X, Y, test_size=0.3, random_state=1)\n",
    "\n",
    "model = sm.OLS(y_train, X_train)       # Set up the model\n",
    "result = model.fit()\n",
    "print(result.summary())\n",
    "\n",
    "print('Params')\n",
    "print(result.params)\n",
    "print\n",
    "print('R-squared =', result.rsquared)\n",
    "print('P-values')\n",
    "print(result.pvalues)"
   ]
  },
  {
   "cell_type": "code",
   "execution_count": 23,
   "metadata": {
    "colab": {
     "base_uri": "https://localhost:8080/",
     "height": 35
    },
    "colab_type": "code",
    "executionInfo": {
     "elapsed": 6434,
     "status": "ok",
     "timestamp": 1597097587263,
     "user": {
      "displayName": "Samir Epili",
      "photoUrl": "",
      "userId": "17793813043662774071"
     },
     "user_tz": 300
    },
    "id": "gxuAOim11G6B",
    "outputId": "4d82fefc-28c3-4618-92d3-591f875720a6"
   },
   "outputs": [
    {
     "name": "stdout",
     "output_type": "stream",
     "text": [
      "1.9117649485531152\n"
     ]
    }
   ],
   "source": [
    "#RMSE on test set\n",
    "\n",
    "from sklearn.linear_model import LinearRegression\n",
    "from sklearn.datasets import make_regression\n",
    "from sklearn import metrics\n",
    "\n",
    "Xnew = X_test.values\n",
    "y_pred = result.predict(Xnew)\n",
    "\n",
    "RMSE = print(sqrt(metrics.mean_squared_error(y_test, y_pred)))"
   ]
  },
  {
   "cell_type": "markdown",
   "metadata": {
    "colab_type": "text",
    "id": "v2F5S7vbnGQo"
   },
   "source": [
    "Ladder score is a decent predictor of infection rate. Maybe a predictor of happiness could also be a good predictor of infection rate?"
   ]
  },
  {
   "cell_type": "markdown",
   "metadata": {
    "colab_type": "text",
    "id": "m4ntTTvfmtcP"
   },
   "source": [
    "All predictors of happiness to create a model for predicting infection rate:"
   ]
  },
  {
   "cell_type": "code",
   "execution_count": 24,
   "metadata": {
    "colab": {
     "base_uri": "https://localhost:8080/",
     "height": 901
    },
    "colab_type": "code",
    "executionInfo": {
     "elapsed": 6410,
     "status": "ok",
     "timestamp": 1597097587263,
     "user": {
      "displayName": "Samir Epili",
      "photoUrl": "",
      "userId": "17793813043662774071"
     },
     "user_tz": 300
    },
    "id": "O7FGtgo6mrPq",
    "outputId": "403ba9fc-e154-4bba-d0ce-2191b8e6c1c2"
   },
   "outputs": [
    {
     "name": "stdout",
     "output_type": "stream",
     "text": [
      "                             OLS Regression Results                             \n",
      "================================================================================\n",
      "Dep. Variable:     log_num_max_increase   R-squared:                       0.376\n",
      "Model:                              OLS   Adj. R-squared:                  0.348\n",
      "Method:                   Least Squares   F-statistic:                     13.46\n",
      "Date:                  Thu, 10 Sep 2020   Prob (F-statistic):           6.55e-12\n",
      "Time:                          16:39:48   Log-Likelihood:                -273.09\n",
      "No. Observations:                   141   AIC:                             560.2\n",
      "Df Residuals:                       134   BIC:                             580.8\n",
      "Df Model:                             6                                         \n",
      "Covariance Type:              nonrobust                                         \n",
      "================================================================================================\n",
      "                                   coef    std err          t      P>|t|      [0.025      0.975]\n",
      "------------------------------------------------------------------------------------------------\n",
      "Intercept                       -6.5869      2.060     -3.197      0.002     -10.661      -2.512\n",
      "Logged_GDP_per_capita            1.0842      0.259      4.188      0.000       0.572       1.596\n",
      "Social_support                  -4.1662      2.095     -1.989      0.049      -8.310      -0.023\n",
      "Healthy_life_expectancy          0.0672      0.045      1.486      0.140      -0.022       0.157\n",
      "Freedom_to_make_life_choices     0.1885      1.547      0.122      0.903      -2.871       3.248\n",
      "Generosity                       0.3891      1.106      0.352      0.725      -1.798       2.576\n",
      "Perceptions_of_corruption        0.5584      0.976      0.572      0.568      -1.371       2.488\n",
      "==============================================================================\n",
      "Omnibus:                        2.391   Durbin-Watson:                   2.022\n",
      "Prob(Omnibus):                  0.303   Jarque-Bera (JB):                2.442\n",
      "Skew:                           0.295   Prob(JB):                        0.295\n",
      "Kurtosis:                       2.739   Cond. No.                     1.13e+03\n",
      "==============================================================================\n",
      "\n",
      "Warnings:\n",
      "[1] Standard Errors assume that the covariance matrix of the errors is correctly specified.\n",
      "[2] The condition number is large, 1.13e+03. This might indicate that there are\n",
      "strong multicollinearity or other numerical problems.\n",
      "Params\n",
      "Intercept                      -6.586857\n",
      "Logged_GDP_per_capita           1.084247\n",
      "Social_support                 -4.166182\n",
      "Healthy_life_expectancy         0.067237\n",
      "Freedom_to_make_life_choices    0.188519\n",
      "Generosity                      0.389104\n",
      "Perceptions_of_corruption       0.558447\n",
      "dtype: float64\n",
      "R-squared = 0.37606057744718513\n",
      "P-values\n",
      "Intercept                       0.001731\n",
      "Logged_GDP_per_capita           0.000051\n",
      "Social_support                  0.048782\n",
      "Healthy_life_expectancy         0.139684\n",
      "Freedom_to_make_life_choices    0.903185\n",
      "Generosity                      0.725490\n",
      "Perceptions_of_corruption       0.568015\n",
      "dtype: float64\n"
     ]
    }
   ],
   "source": [
    "# Regression for confirmed using predictors of happiness\n",
    "pred_str = make_vars([6,7,8,9,10,11]) #change numbers from 2, 6-11 for different happiness variables. 2, 6-9 seem to be the best\n",
    "\n",
    "y, X = dmatrices('log_num_max_increase ~ '+ pred_str, data=happy_confirmed_cleaned, return_type='dataframe')\n",
    "model = sm.OLS(y, X)       # Set up the model\n",
    "result = model.fit()       # Fit model\n",
    "print(result.summary())\n",
    "\n",
    "print('Params')\n",
    "print(result.params)\n",
    "print\n",
    "print('R-squared =', result.rsquared)\n",
    "print('P-values')\n",
    "print(result.pvalues)"
   ]
  },
  {
   "cell_type": "code",
   "execution_count": 25,
   "metadata": {
    "colab": {
     "base_uri": "https://localhost:8080/",
     "height": 607
    },
    "colab_type": "code",
    "executionInfo": {
     "elapsed": 6390,
     "status": "ok",
     "timestamp": 1597097587264,
     "user": {
      "displayName": "Samir Epili",
      "photoUrl": "",
      "userId": "17793813043662774071"
     },
     "user_tz": 300
    },
    "id": "-Uk5gs5CQ8XD",
    "outputId": "18dca677-a5cc-4d4b-c6ce-4c2470e640fd"
   },
   "outputs": [
    {
     "name": "stdout",
     "output_type": "stream",
     "text": [
      "                             OLS Regression Results                             \n",
      "================================================================================\n",
      "Dep. Variable:     log_num_max_increase   R-squared:                       0.353\n",
      "Model:                              OLS   Adj. R-squared:                  0.349\n",
      "Method:                   Least Squares   F-statistic:                     75.90\n",
      "Date:                  Thu, 10 Sep 2020   Prob (F-statistic):           7.94e-15\n",
      "Time:                          16:39:48   Log-Likelihood:                -275.63\n",
      "No. Observations:                   141   AIC:                             555.3\n",
      "Df Residuals:                       139   BIC:                             561.2\n",
      "Df Model:                             1                                         \n",
      "Covariance Type:              nonrobust                                         \n",
      "=========================================================================================\n",
      "                            coef    std err          t      P>|t|      [0.025      0.975]\n",
      "-----------------------------------------------------------------------------------------\n",
      "Intercept                -4.6920      1.121     -4.186      0.000      -6.908      -2.476\n",
      "Logged_GDP_per_capita     1.0443      0.120      8.712      0.000       0.807       1.281\n",
      "==============================================================================\n",
      "Omnibus:                        1.754   Durbin-Watson:                   2.000\n",
      "Prob(Omnibus):                  0.416   Jarque-Bera (JB):                1.761\n",
      "Skew:                           0.263   Prob(JB):                        0.414\n",
      "Kurtosis:                       2.849   Cond. No.                         73.1\n",
      "==============================================================================\n",
      "\n",
      "Warnings:\n",
      "[1] Standard Errors assume that the covariance matrix of the errors is correctly specified.\n",
      "Params\n",
      "Intercept               -4.691962\n",
      "Logged_GDP_per_capita    1.044270\n",
      "dtype: float64\n",
      "R-squared = 0.3531744858318845\n",
      "P-values\n",
      "Intercept                5.018496e-05\n",
      "Logged_GDP_per_capita    7.941308e-15\n",
      "dtype: float64\n"
     ]
    }
   ],
   "source": [
    "# Regression for confirmed using predictors of happiness - GDP IS BEST\n",
    "pred_str = make_vars([6]) #change numbers from 2, 6-11 for different happiness variables. 2, 6-9 seem to be the best\n",
    "\n",
    "y, X = dmatrices('log_num_max_increase ~ '+ pred_str, data=happy_confirmed_cleaned, return_type='dataframe')\n",
    "model = sm.OLS(y, X)       # Set up the model\n",
    "result = model.fit()       # Fit model\n",
    "print(result.summary())\n",
    "\n",
    "print('Params')\n",
    "print(result.params)\n",
    "print\n",
    "print('R-squared =', result.rsquared)\n",
    "print('P-values')\n",
    "print(result.pvalues)"
   ]
  },
  {
   "cell_type": "code",
   "execution_count": 26,
   "metadata": {
    "colab": {
     "base_uri": "https://localhost:8080/",
     "height": 313
    },
    "colab_type": "code",
    "executionInfo": {
     "elapsed": 6799,
     "status": "ok",
     "timestamp": 1597097587695,
     "user": {
      "displayName": "Samir Epili",
      "photoUrl": "",
      "userId": "17793813043662774071"
     },
     "user_tz": 300
    },
    "id": "51RNevXPQq2K",
    "outputId": "1e2fe485-e1eb-4174-f4df-46921845a515"
   },
   "outputs": [
    {
     "data": {
      "text/plain": [
       "Text(0.5, 1.0, 'GDP versus Max Increase of Cases')"
      ]
     },
     "execution_count": 26,
     "metadata": {},
     "output_type": "execute_result"
    },
    {
     "data": {
      "image/png": "[encoded data removed]",
      "text/plain": [
       "<Figure size 432x288 with 1 Axes>"
      ]
     },
     "metadata": {
      "needs_background": "light"
     },
     "output_type": "display_data"
    }
   ],
   "source": [
    "#Regression on full data\n",
    "slope = result.params['Logged_GDP_per_capita']\n",
    "intercept = result.params['Intercept']\n",
    "predicted = happy_confirmed_cleaned['Logged_GDP_per_capita'] * slope + intercept\n",
    "regression_predictions = Series(predicted.values, index=happy_confirmed_cleaned['Logged_GDP_per_capita'])\n",
    "\n",
    "#Regression on GDP per capita and num_max_increase\n",
    "plot(happy_confirmed_cleaned['Logged_GDP_per_capita'], (happy_confirmed_cleaned['log_num_max_increase']), marker='o', color='blue', linestyle='None')\n",
    "regression_predictions.plot(label='Regression', linewidth=2)\n",
    "xlabel('GDP per capita')\n",
    "ylabel('Max Increase of Cases')\n",
    "title('GDP versus Max Increase of Cases')"
   ]
  },
  {
   "cell_type": "code",
   "execution_count": 27,
   "metadata": {
    "colab": {
     "base_uri": "https://localhost:8080/",
     "height": 607
    },
    "colab_type": "code",
    "executionInfo": {
     "elapsed": 6778,
     "status": "ok",
     "timestamp": 1597097587696,
     "user": {
      "displayName": "Samir Epili",
      "photoUrl": "",
      "userId": "17793813043662774071"
     },
     "user_tz": 300
    },
    "id": "Qxr141LKRDTk",
    "outputId": "d10c8f69-81d4-4070-9c63-e1d823832944"
   },
   "outputs": [
    {
     "name": "stdout",
     "output_type": "stream",
     "text": [
      "                             OLS Regression Results                             \n",
      "================================================================================\n",
      "Dep. Variable:     log_num_max_increase   R-squared:                       0.164\n",
      "Model:                              OLS   Adj. R-squared:                  0.158\n",
      "Method:                   Least Squares   F-statistic:                     27.24\n",
      "Date:                  Thu, 10 Sep 2020   Prob (F-statistic):           6.41e-07\n",
      "Time:                          16:39:48   Log-Likelihood:                -293.73\n",
      "No. Observations:                   141   AIC:                             591.5\n",
      "Df Residuals:                       139   BIC:                             597.4\n",
      "Df Model:                             1                                         \n",
      "Covariance Type:              nonrobust                                         \n",
      "==================================================================================\n",
      "                     coef    std err          t      P>|t|      [0.025      0.975]\n",
      "----------------------------------------------------------------------------------\n",
      "Intercept         -0.6026      1.085     -0.556      0.579      -2.747       1.542\n",
      "Social_support     6.9278      1.327      5.219      0.000       4.303       9.552\n",
      "==============================================================================\n",
      "Omnibus:                        1.439   Durbin-Watson:                   1.872\n",
      "Prob(Omnibus):                  0.487   Jarque-Bera (JB):                1.487\n",
      "Skew:                           0.235   Prob(JB):                        0.475\n",
      "Kurtosis:                       2.819   Cond. No.                         13.4\n",
      "==============================================================================\n",
      "\n",
      "Warnings:\n",
      "[1] Standard Errors assume that the covariance matrix of the errors is correctly specified.\n",
      "Params\n",
      "Intercept        -0.602572\n",
      "Social_support    6.927827\n",
      "dtype: float64\n",
      "R-squared = 0.16384308677900428\n",
      "P-values\n",
      "Intercept         5.793819e-01\n",
      "Social_support    6.410944e-07\n",
      "dtype: float64\n"
     ]
    }
   ],
   "source": [
    "# Regression for confirmed using predictors of happiness - Social_support\n",
    "pred_str = make_vars([7]) #change numbers from 2, 6-11 for different happiness variables. 2, 6-9 seem to be the best\n",
    "\n",
    "y, X = dmatrices('log_num_max_increase ~ '+ pred_str, data=happy_confirmed_cleaned, return_type='dataframe')\n",
    "model = sm.OLS(y, X)       # Set up the model\n",
    "result = model.fit()       # Fit model\n",
    "print(result.summary())\n",
    "\n",
    "print('Params')\n",
    "print(result.params)\n",
    "print\n",
    "print('R-squared =', result.rsquared)\n",
    "print('P-values')\n",
    "print(result.pvalues)"
   ]
  },
  {
   "cell_type": "code",
   "execution_count": 28,
   "metadata": {
    "colab": {
     "base_uri": "https://localhost:8080/",
     "height": 295
    },
    "colab_type": "code",
    "executionInfo": {
     "elapsed": 6758,
     "status": "ok",
     "timestamp": 1597097587697,
     "user": {
      "displayName": "Samir Epili",
      "photoUrl": "",
      "userId": "17793813043662774071"
     },
     "user_tz": 300
    },
    "id": "7qVq846CQtuA",
    "outputId": "656e0423-7373-4631-f46e-4bf592c4ab5d"
   },
   "outputs": [
    {
     "data": {
      "image/png": "[encoded data removed]",
      "text/plain": [
       "<Figure size 432x288 with 1 Axes>"
      ]
     },
     "metadata": {
      "needs_background": "light"
     },
     "output_type": "display_data"
    }
   ],
   "source": [
    "#Regression on full data\n",
    "slope = result.params['Social_support']\n",
    "intercept = result.params['Intercept']\n",
    "predicted = happy_confirmed_cleaned['Social_support'] * slope + intercept\n",
    "regression_predictions = Series(predicted.values, index=happy_confirmed_cleaned['Social_support'])\n",
    "\n",
    "#Regression on GDP per capita and num_max_increase\n",
    "plot(happy_confirmed_cleaned['Social_support'], (happy_confirmed_cleaned['log_num_max_increase']), marker='o', color='blue', linestyle='None')\n",
    "regression_predictions.plot(label='Regression', linewidth=2)\n",
    "xlabel('Social Support')\n",
    "ylabel('Max Increase of Cases')\n",
    "title('Social Support versus Max Increase of Cases') \n",
    "show()"
   ]
  },
  {
   "cell_type": "code",
   "execution_count": 29,
   "metadata": {
    "colab": {
     "base_uri": "https://localhost:8080/",
     "height": 607
    },
    "colab_type": "code",
    "executionInfo": {
     "elapsed": 6722,
     "status": "ok",
     "timestamp": 1597097587697,
     "user": {
      "displayName": "Samir Epili",
      "photoUrl": "",
      "userId": "17793813043662774071"
     },
     "user_tz": 300
    },
    "id": "WyIO5MuURgCf",
    "outputId": "53075c3d-6ab1-4d44-8f2d-8e6239cbfb8f"
   },
   "outputs": [
    {
     "name": "stdout",
     "output_type": "stream",
     "text": [
      "                             OLS Regression Results                             \n",
      "================================================================================\n",
      "Dep. Variable:     log_num_max_increase   R-squared:                       0.293\n",
      "Model:                              OLS   Adj. R-squared:                  0.288\n",
      "Method:                   Least Squares   F-statistic:                     57.72\n",
      "Date:                  Thu, 10 Sep 2020   Prob (F-statistic):           4.03e-12\n",
      "Time:                          16:39:48   Log-Likelihood:                -281.86\n",
      "No. Observations:                   141   AIC:                             567.7\n",
      "Df Residuals:                       139   BIC:                             573.6\n",
      "Df Model:                             1                                         \n",
      "Covariance Type:              nonrobust                                         \n",
      "===========================================================================================\n",
      "                              coef    std err          t      P>|t|      [0.025      0.975]\n",
      "-------------------------------------------------------------------------------------------\n",
      "Intercept                  -5.9679      1.451     -4.114      0.000      -8.836      -3.100\n",
      "Healthy_life_expectancy     0.1699      0.022      7.597      0.000       0.126       0.214\n",
      "==============================================================================\n",
      "Omnibus:                        2.579   Durbin-Watson:                   2.046\n",
      "Prob(Omnibus):                  0.275   Jarque-Bera (JB):                2.622\n",
      "Skew:                           0.303   Prob(JB):                        0.270\n",
      "Kurtosis:                       2.717   Cond. No.                         621.\n",
      "==============================================================================\n",
      "\n",
      "Warnings:\n",
      "[1] Standard Errors assume that the covariance matrix of the errors is correctly specified.\n",
      "Params\n",
      "Intercept                 -5.967921\n",
      "Healthy_life_expectancy    0.169876\n",
      "dtype: float64\n",
      "R-squared = 0.2934137796595505\n",
      "P-values\n",
      "Intercept                  6.617378e-05\n",
      "Healthy_life_expectancy    4.034237e-12\n",
      "dtype: float64\n"
     ]
    }
   ],
   "source": [
    "# Regression for confirmed using predictors of happiness - Health life expectancy\n",
    "pred_str = make_vars([8]) #change numbers from 2, 6-11 for different happiness variables. 2, 6-9 seem to be the best\n",
    "\n",
    "y, X = dmatrices('log_num_max_increase ~ '+ pred_str, data=happy_confirmed_cleaned, return_type='dataframe')\n",
    "model = sm.OLS(y, X)       # Set up the model\n",
    "result = model.fit()       # Fit model\n",
    "print(result.summary())\n",
    "\n",
    "print('Params')\n",
    "print(result.params)\n",
    "print\n",
    "print('R-squared =', result.rsquared)\n",
    "print('P-values')\n",
    "print(result.pvalues)"
   ]
  },
  {
   "cell_type": "code",
   "execution_count": 30,
   "metadata": {
    "colab": {
     "base_uri": "https://localhost:8080/",
     "height": 313
    },
    "colab_type": "code",
    "executionInfo": {
     "elapsed": 7024,
     "status": "ok",
     "timestamp": 1597097588023,
     "user": {
      "displayName": "Samir Epili",
      "photoUrl": "",
      "userId": "17793813043662774071"
     },
     "user_tz": 300
    },
    "id": "ueVW8zl5Rfym",
    "outputId": "6f37eb44-ca91-438e-ac20-2e8cb355db88"
   },
   "outputs": [
    {
     "data": {
      "text/plain": [
       "Text(0.5, 1.0, 'Life Expectancy versus Max Increase of Cases')"
      ]
     },
     "execution_count": 30,
     "metadata": {},
     "output_type": "execute_result"
    },
    {
     "data": {
      "image/png": "[encoded data removed]",
      "text/plain": [
       "<Figure size 432x288 with 1 Axes>"
      ]
     },
     "metadata": {
      "needs_background": "light"
     },
     "output_type": "display_data"
    }
   ],
   "source": [
    "#Regression on full data\n",
    "slope = result.params['Healthy_life_expectancy']\n",
    "intercept = result.params['Intercept']\n",
    "predicted = happy_confirmed_cleaned['Healthy_life_expectancy'] * slope + intercept\n",
    "regression_predictions = Series(predicted.values, index=happy_confirmed_cleaned['Healthy_life_expectancy'])\n",
    "\n",
    "#Regression on GDP per capita and num_max_increase\n",
    "plot(happy_confirmed_cleaned['Healthy_life_expectancy'], (happy_confirmed_cleaned['log_num_max_increase']), marker='o', color='blue', linestyle='None')\n",
    "regression_predictions.plot(label='Regression', linewidth=2)\n",
    "xlabel('Healthy life expectancy')\n",
    "ylabel('Max Increase of Cases')\n",
    "title('Life Expectancy versus Max Increase of Cases') "
   ]
  },
  {
   "cell_type": "code",
   "execution_count": 31,
   "metadata": {
    "colab": {
     "base_uri": "https://localhost:8080/",
     "height": 607
    },
    "colab_type": "code",
    "executionInfo": {
     "elapsed": 6998,
     "status": "ok",
     "timestamp": 1597097588025,
     "user": {
      "displayName": "Samir Epili",
      "photoUrl": "",
      "userId": "17793813043662774071"
     },
     "user_tz": 300
    },
    "id": "4vbnne__R3Co",
    "outputId": "1c1cdf5a-b811-41cd-a40c-68b231d2f129"
   },
   "outputs": [
    {
     "name": "stdout",
     "output_type": "stream",
     "text": [
      "                             OLS Regression Results                             \n",
      "================================================================================\n",
      "Dep. Variable:     log_num_max_increase   R-squared:                       0.064\n",
      "Model:                              OLS   Adj. R-squared:                  0.058\n",
      "Method:                   Least Squares   F-statistic:                     9.566\n",
      "Date:                  Thu, 10 Sep 2020   Prob (F-statistic):            0.00240\n",
      "Time:                          16:39:49   Log-Likelihood:                -301.65\n",
      "No. Observations:                   141   AIC:                             607.3\n",
      "Df Residuals:                       139   BIC:                             613.2\n",
      "Df Model:                             1                                         \n",
      "Covariance Type:              nonrobust                                         \n",
      "================================================================================================\n",
      "                                   coef    std err          t      P>|t|      [0.025      0.975]\n",
      "------------------------------------------------------------------------------------------------\n",
      "Intercept                        1.4484      1.159      1.250      0.213      -0.843       3.740\n",
      "Freedom_to_make_life_choices     4.5070      1.457      3.093      0.002       1.626       7.388\n",
      "==============================================================================\n",
      "Omnibus:                        3.155   Durbin-Watson:                   1.663\n",
      "Prob(Omnibus):                  0.207   Jarque-Bera (JB):                3.176\n",
      "Skew:                           0.355   Prob(JB):                        0.204\n",
      "Kurtosis:                       2.810   Cond. No.                         13.6\n",
      "==============================================================================\n",
      "\n",
      "Warnings:\n",
      "[1] Standard Errors assume that the covariance matrix of the errors is correctly specified.\n",
      "Params\n",
      "Intercept                       1.448400\n",
      "Freedom_to_make_life_choices    4.506971\n",
      "dtype: float64\n",
      "R-squared = 0.06439066420636474\n",
      "P-values\n",
      "Intercept                       0.213451\n",
      "Freedom_to_make_life_choices    0.002396\n",
      "dtype: float64\n"
     ]
    }
   ],
   "source": [
    "# Regression for confirmed using predictors of happiness - Freedom to make life choices\n",
    "pred_str = make_vars([9]) #change numbers from 2, 6-11 for different happiness variables. 2, 6-9 seem to be the best\n",
    "\n",
    "y, X = dmatrices('log_num_max_increase ~ '+ pred_str, data=happy_confirmed_cleaned, return_type='dataframe')\n",
    "model = sm.OLS(y, X)       # Set up the model\n",
    "result = model.fit()       # Fit model\n",
    "print(result.summary())\n",
    "\n",
    "print('Params')\n",
    "print(result.params)\n",
    "print\n",
    "print('R-squared =', result.rsquared)\n",
    "print('P-values')\n",
    "print(result.pvalues)"
   ]
  },
  {
   "cell_type": "code",
   "execution_count": 32,
   "metadata": {
    "colab": {
     "base_uri": "https://localhost:8080/",
     "height": 313
    },
    "colab_type": "code",
    "executionInfo": {
     "elapsed": 7477,
     "status": "ok",
     "timestamp": 1597097588531,
     "user": {
      "displayName": "Samir Epili",
      "photoUrl": "",
      "userId": "17793813043662774071"
     },
     "user_tz": 300
    },
    "id": "0O1EWPygR5ya",
    "outputId": "a68a2633-6818-4c11-ea98-d4c2508afe43"
   },
   "outputs": [
    {
     "data": {
      "text/plain": [
       "Text(0.5, 1.0, 'Freedom versus Max Increase of Cases')"
      ]
     },
     "execution_count": 32,
     "metadata": {},
     "output_type": "execute_result"
    },
    {
     "data": {
      "image/png": "[encoded data removed]",
      "text/plain": [
       "<Figure size 432x288 with 1 Axes>"
      ]
     },
     "metadata": {
      "needs_background": "light"
     },
     "output_type": "display_data"
    }
   ],
   "source": [
    "#Regression on full data\n",
    "slope = result.params['Freedom_to_make_life_choices']\n",
    "intercept = result.params['Intercept']\n",
    "predicted = happy_confirmed_cleaned['Freedom_to_make_life_choices'] * slope + intercept\n",
    "regression_predictions = Series(predicted.values, index=happy_confirmed_cleaned['Freedom_to_make_life_choices'])\n",
    "\n",
    "#Regression on GDP per capita and num_max_increase\n",
    "plot(happy_confirmed_cleaned['Freedom_to_make_life_choices'], (happy_confirmed_cleaned['log_num_max_increase']), marker='o', color='blue', linestyle='None')\n",
    "regression_predictions.plot(label='Regression', linewidth=2)\n",
    "xlabel('Freedom to make life choices')\n",
    "ylabel('Max Increase of Cases')\n",
    "title('Freedom versus Max Increase of Cases') "
   ]
  },
  {
   "cell_type": "markdown",
   "metadata": {
    "colab_type": "text",
    "id": "JdP2obEJlILc"
   },
   "source": [
    "Keep only best predictors:"
   ]
  },
  {
   "cell_type": "code",
   "execution_count": 33,
   "metadata": {
    "colab": {
     "base_uri": "https://localhost:8080/",
     "height": 607
    },
    "colab_type": "code",
    "executionInfo": {
     "elapsed": 7454,
     "status": "ok",
     "timestamp": 1597097588532,
     "user": {
      "displayName": "Samir Epili",
      "photoUrl": "",
      "userId": "17793813043662774071"
     },
     "user_tz": 300
    },
    "id": "Yofsm40llAyb",
    "outputId": "21d51b2d-2d16-4881-9ef0-bc5620dbe51f"
   },
   "outputs": [
    {
     "name": "stdout",
     "output_type": "stream",
     "text": [
      "                             OLS Regression Results                             \n",
      "================================================================================\n",
      "Dep. Variable:     log_num_max_increase   R-squared:                       0.353\n",
      "Model:                              OLS   Adj. R-squared:                  0.349\n",
      "Method:                   Least Squares   F-statistic:                     75.90\n",
      "Date:                  Thu, 10 Sep 2020   Prob (F-statistic):           7.94e-15\n",
      "Time:                          16:39:49   Log-Likelihood:                -275.63\n",
      "No. Observations:                   141   AIC:                             555.3\n",
      "Df Residuals:                       139   BIC:                             561.2\n",
      "Df Model:                             1                                         \n",
      "Covariance Type:              nonrobust                                         \n",
      "=========================================================================================\n",
      "                            coef    std err          t      P>|t|      [0.025      0.975]\n",
      "-----------------------------------------------------------------------------------------\n",
      "Intercept                -4.6920      1.121     -4.186      0.000      -6.908      -2.476\n",
      "Logged_GDP_per_capita     1.0443      0.120      8.712      0.000       0.807       1.281\n",
      "==============================================================================\n",
      "Omnibus:                        1.754   Durbin-Watson:                   2.000\n",
      "Prob(Omnibus):                  0.416   Jarque-Bera (JB):                1.761\n",
      "Skew:                           0.263   Prob(JB):                        0.414\n",
      "Kurtosis:                       2.849   Cond. No.                         73.1\n",
      "==============================================================================\n",
      "\n",
      "Warnings:\n",
      "[1] Standard Errors assume that the covariance matrix of the errors is correctly specified.\n",
      "Params\n",
      "Intercept               -4.691962\n",
      "Logged_GDP_per_capita    1.044270\n",
      "dtype: float64\n",
      "R-squared = 0.3531744858318845\n",
      "P-values\n",
      "Intercept                5.018496e-05\n",
      "Logged_GDP_per_capita    7.941308e-15\n",
      "dtype: float64\n"
     ]
    }
   ],
   "source": [
    "# Regression for confirmed using predictors of happiness\n",
    "pred_str = make_vars([6]) #change numbers from 2, 6-11 for different happiness variables. 2, 6-9 seem to be the best\n",
    "\n",
    "y, X = dmatrices('log_num_max_increase ~ '+ pred_str, data=happy_confirmed_cleaned, return_type='dataframe')\n",
    "model = sm.OLS(y, X)       # Set up the model\n",
    "result = model.fit()       # Fit model\n",
    "print(result.summary())\n",
    "\n",
    "print('Params')\n",
    "print(result.params)\n",
    "print\n",
    "print('R-squared =', result.rsquared)\n",
    "print('P-values')\n",
    "print(result.pvalues)"
   ]
  },
  {
   "cell_type": "markdown",
   "metadata": {
    "colab_type": "text",
    "id": "v7rR-200iM1s"
   },
   "source": [
    "R^2 of 0.353 using GDP as the sole factor -- Way better!"
   ]
  },
  {
   "cell_type": "markdown",
   "metadata": {
    "colab_type": "text",
    "id": "1iwufQCTnRx1"
   },
   "source": [
    "Predictive Model:"
   ]
  },
  {
   "cell_type": "code",
   "execution_count": 34,
   "metadata": {
    "colab": {
     "base_uri": "https://localhost:8080/",
     "height": 607
    },
    "colab_type": "code",
    "executionInfo": {
     "elapsed": 7438,
     "status": "ok",
     "timestamp": 1597097588534,
     "user": {
      "displayName": "Samir Epili",
      "photoUrl": "",
      "userId": "17793813043662774071"
     },
     "user_tz": 300
    },
    "id": "w-mozPpPnUPT",
    "outputId": "e75baa17-b4af-48a2-8589-efdf53faa84b"
   },
   "outputs": [
    {
     "name": "stdout",
     "output_type": "stream",
     "text": [
      "                             OLS Regression Results                             \n",
      "================================================================================\n",
      "Dep. Variable:     log_num_max_increase   R-squared:                       0.317\n",
      "Model:                              OLS   Adj. R-squared:                  0.310\n",
      "Method:                   Least Squares   F-statistic:                     44.66\n",
      "Date:                  Thu, 10 Sep 2020   Prob (F-statistic):           1.54e-09\n",
      "Time:                          16:39:49   Log-Likelihood:                -191.09\n",
      "No. Observations:                    98   AIC:                             386.2\n",
      "Df Residuals:                        96   BIC:                             391.4\n",
      "Df Model:                             1                                         \n",
      "Covariance Type:              nonrobust                                         \n",
      "=========================================================================================\n",
      "                            coef    std err          t      P>|t|      [0.025      0.975]\n",
      "-----------------------------------------------------------------------------------------\n",
      "Intercept                -4.2193      1.367     -3.087      0.003      -6.933      -1.506\n",
      "Logged_GDP_per_capita     0.9778      0.146      6.682      0.000       0.687       1.268\n",
      "==============================================================================\n",
      "Omnibus:                        2.244   Durbin-Watson:                   1.736\n",
      "Prob(Omnibus):                  0.326   Jarque-Bera (JB):                1.833\n",
      "Skew:                           0.331   Prob(JB):                        0.400\n",
      "Kurtosis:                       3.106   Cond. No.                         74.4\n",
      "==============================================================================\n",
      "\n",
      "Warnings:\n",
      "[1] Standard Errors assume that the covariance matrix of the errors is correctly specified.\n",
      "Params\n",
      "Intercept               -4.219348\n",
      "Logged_GDP_per_capita    0.977760\n",
      "dtype: float64\n",
      "R-squared = 0.3174820132512587\n",
      "P-values\n",
      "Intercept                2.645039e-03\n",
      "Logged_GDP_per_capita    1.538961e-09\n",
      "dtype: float64\n"
     ]
    }
   ],
   "source": [
    "# training set\n",
    "pred_str = make_vars([6])\n",
    "\n",
    "Y, X = dmatrices('log_num_max_increase ~ '+ pred_str, data=happy_confirmed_cleaned, return_type='dataframe')\n",
    "#y = Y['logged_num_max_increase'].values\n",
    "\n",
    "\n",
    "from sklearn.model_selection import train_test_split\n",
    "X_train, X_test, y_train, y_test = train_test_split(X, Y, test_size=0.3, random_state=1)\n",
    "\n",
    "\n",
    "model = sm.OLS(y_train, X_train)       # Set up the model\n",
    "result = model.fit()\n",
    "print(result.summary())\n",
    "\n",
    "print('Params')\n",
    "print(result.params)\n",
    "print\n",
    "print('R-squared =', result.rsquared)\n",
    "print('P-values')\n",
    "print(result.pvalues)"
   ]
  },
  {
   "cell_type": "code",
   "execution_count": 35,
   "metadata": {
    "colab": {
     "base_uri": "https://localhost:8080/",
     "height": 35
    },
    "colab_type": "code",
    "executionInfo": {
     "elapsed": 7419,
     "status": "ok",
     "timestamp": 1597097588535,
     "user": {
      "displayName": "Samir Epili",
      "photoUrl": "",
      "userId": "17793813043662774071"
     },
     "user_tz": 300
    },
    "id": "h0-BZtCTnZ0N",
    "outputId": "b2808adb-aed5-4a3c-ca42-f4353e27aa9e"
   },
   "outputs": [
    {
     "name": "stdout",
     "output_type": "stream",
     "text": [
      "1.7533624136351356\n"
     ]
    }
   ],
   "source": [
    "#RMSE on test set\n",
    "\n",
    "from sklearn.linear_model import LinearRegression\n",
    "from sklearn.datasets import make_regression\n",
    "from sklearn import metrics\n",
    "\n",
    "Xnew = X_test.values\n",
    "y_pred = result.predict(Xnew)\n",
    "\n",
    "RMSE = print(sqrt(metrics.mean_squared_error(y_test, y_pred)))"
   ]
  },
  {
   "cell_type": "code",
   "execution_count": 36,
   "metadata": {
    "colab": {},
    "colab_type": "code",
    "executionInfo": {
     "elapsed": 7417,
     "status": "ok",
     "timestamp": 1597097588536,
     "user": {
      "displayName": "Samir Epili",
      "photoUrl": "",
      "userId": "17793813043662774071"
     },
     "user_tz": 300
    },
    "id": "lhGf_iN3jHur"
   },
   "outputs": [],
   "source": [
    "slope = result.params['Logged_GDP_per_capita']\n",
    "intercept = result.params['Intercept']\n",
    "regression_predictions = Series(y_pred,index=X_test['Logged_GDP_per_capita'])"
   ]
  },
  {
   "cell_type": "code",
   "execution_count": 37,
   "metadata": {
    "colab": {
     "base_uri": "https://localhost:8080/",
     "height": 297
    },
    "colab_type": "code",
    "executionInfo": {
     "elapsed": 7399,
     "status": "ok",
     "timestamp": 1597097588536,
     "user": {
      "displayName": "Samir Epili",
      "photoUrl": "",
      "userId": "17793813043662774071"
     },
     "user_tz": 300
    },
    "id": "NxVzUm0GjNYN",
    "outputId": "56734159-77b9-4e03-bd4c-9439ce845650"
   },
   "outputs": [
    {
     "data": {
      "text/plain": [
       "<matplotlib.axes._subplots.AxesSubplot at 0x249af3173c8>"
      ]
     },
     "execution_count": 37,
     "metadata": {},
     "output_type": "execute_result"
    },
    {
     "data": {
      "image/png": "[encoded data removed]",
      "text/plain": [
       "<Figure size 432x288 with 1 Axes>"
      ]
     },
     "metadata": {
      "needs_background": "light"
     },
     "output_type": "display_data"
    }
   ],
   "source": [
    "plot(X_test['Logged_GDP_per_capita'], (y_test['log_num_max_increase']), marker='o', color='blue', linestyle='none')\n",
    "xlabel('Logged_GDP_per_capita')\n",
    "ylabel('log_num_max_increase')\n",
    "regression_predictions.plot(label='Regression', linewidth=2)"
   ]
  },
  {
   "cell_type": "markdown",
   "metadata": {
    "colab_type": "text",
    "id": "uuHHqXvAcjk3"
   },
   "source": [
    "Predicting model without the US improves R^2 and slightly improves RMSE.\n",
    "For the future: Find more outliers that have a high happiness score/GDP, but high case rate.\n",
    "\n",
    "Implications of predictive model: A small factor in predicting how severe a spike is in a country where confirmed COVID cases is unknown or inaccurate is happiness - specifically, GDP per capita. Increasing GDP leads to more cases likely because of more testing so hard to know. "
   ]
  },
  {
   "cell_type": "code",
   "execution_count": 38,
   "metadata": {
    "colab": {
     "base_uri": "https://localhost:8080/",
     "height": 121
    },
    "colab_type": "code",
    "executionInfo": {
     "elapsed": 7700,
     "status": "ok",
     "timestamp": 1597097588856,
     "user": {
      "displayName": "Samir Epili",
      "photoUrl": "",
      "userId": "17793813043662774071"
     },
     "user_tz": 300
    },
    "id": "_U9KXUucgZd9",
    "outputId": "894e9324-5c20-4ae0-911b-2fb73f43d9b7"
   },
   "outputs": [
    {
     "data": {
      "text/plain": [
       "DecisionTreeRegressor(criterion='mse', max_depth=2, max_features=None,\n",
       "                      max_leaf_nodes=None, min_impurity_decrease=0.0,\n",
       "                      min_impurity_split=None, min_samples_leaf=1,\n",
       "                      min_samples_split=2, min_weight_fraction_leaf=0.0,\n",
       "                      presort=False, random_state=None, splitter='best')"
      ]
     },
     "execution_count": 38,
     "metadata": {},
     "output_type": "execute_result"
    }
   ],
   "source": [
    "import pandas as pd\n",
    "import numpy as np\n",
    "import matplotlib.pyplot as plt\n",
    "%matplotlib inline\n",
    "\n",
    "pred_str = make_vars([6,7,8,9])\n",
    "\n",
    "Y, X = dmatrices('log_num_max_increase ~ 0 +'+ pred_str, data=happy_confirmed_cleaned, return_type='dataframe')\n",
    "\n",
    "from sklearn.model_selection import train_test_split\n",
    "X_train, X_test, y_train, y_test = train_test_split(X, y, test_size=0.3, random_state=1)\n",
    "\n",
    "from sklearn.tree import DecisionTreeRegressor\n",
    "regressor = DecisionTreeRegressor(max_depth=2)\n",
    "regressor.fit(X_train,y_train)"
   ]
  },
  {
   "cell_type": "code",
   "execution_count": 39,
   "metadata": {
    "colab": {},
    "colab_type": "code",
    "executionInfo": {
     "elapsed": 7991,
     "status": "aborted",
     "timestamp": 1597097589170,
     "user": {
      "displayName": "Samir Epili",
      "photoUrl": "",
      "userId": "17793813043662774071"
     },
     "user_tz": 300
    },
    "id": "X6UAh9gNiXIO"
   },
   "outputs": [
    {
     "name": "stdout",
     "output_type": "stream",
     "text": [
      "Mean Absolute Error: 1.4002708433867808\n",
      "Root Mean Square Error: 1.7533624136351356\n"
     ]
    }
   ],
   "source": [
    "from sklearn import metrics\n",
    "print('Mean Absolute Error:',metrics.mean_absolute_error(y_test,y_pred))\n",
    "print('Root Mean Square Error:',np.sqrt(metrics.mean_squared_error(y_test,y_pred)))"
   ]
  },
  {
   "cell_type": "code",
   "execution_count": 40,
   "metadata": {
    "colab": {},
    "colab_type": "code",
    "executionInfo": {
     "elapsed": 7988,
     "status": "aborted",
     "timestamp": 1597097589172,
     "user": {
      "displayName": "Samir Epili",
      "photoUrl": "",
      "userId": "17793813043662774071"
     },
     "user_tz": 300
    },
    "id": "SG72d1-QkJU3"
   },
   "outputs": [
    {
     "data": {
      "image/svg+xml": [
       "<?xml version=\"1.0\" encoding=\"UTF-8\" standalone=\"no\"?>\r\n",
       "<!DOCTYPE svg PUBLIC \"-//W3C//DTD SVG 1.1//EN\"\r\n",
       " \"http://www.w3.org/Graphics/SVG/1.1/DTD/svg11.dtd\">\r\n",
       "<!-- Generated by graphviz version 2.38.0 (20140413.2041)\r\n",
       " -->\r\n",
       "<!-- Title: Tree Pages: 1 -->\r\n",
       "<svg width=\"469pt\" height=\"269pt\"\r\n",
       " viewBox=\"0.00 0.00 468.50 269.00\" xmlns=\"http://www.w3.org/2000/svg\" xmlns:xlink=\"http://www.w3.org/1999/xlink\">\r\n",
       "<g id=\"graph0\" class=\"graph\" transform=\"scale(1 1) rotate(0) translate(4 265)\">\r\n",
       "<title>Tree</title>\r\n",
       "<polygon fill=\"white\" stroke=\"none\" points=\"-4,4 -4,-265 464.5,-265 464.5,4 -4,4\"/>\r\n",
       "<!-- 0 -->\r\n",
       "<g id=\"node1\" class=\"node\"><title>0</title>\r\n",
       "<polygon fill=\"#f6d4bb\" stroke=\"black\" points=\"327,-261 112,-261 112,-193 327,-193 327,-261\"/>\r\n",
       "<text text-anchor=\"middle\" x=\"219.5\" y=\"-245.8\" font-family=\"Times New Roman,serif\" font-size=\"14.00\">Healthy_life_expectancy &lt;= 68.081</text>\r\n",
       "<text text-anchor=\"middle\" x=\"219.5\" y=\"-230.8\" font-family=\"Times New Roman,serif\" font-size=\"14.00\">mse = 4.237</text>\r\n",
       "<text text-anchor=\"middle\" x=\"219.5\" y=\"-215.8\" font-family=\"Times New Roman,serif\" font-size=\"14.00\">samples = 98</text>\r\n",
       "<text text-anchor=\"middle\" x=\"219.5\" y=\"-200.8\" font-family=\"Times New Roman,serif\" font-size=\"14.00\">value = 4.841</text>\r\n",
       "</g>\r\n",
       "<!-- 1 -->\r\n",
       "<g id=\"node2\" class=\"node\"><title>1</title>\r\n",
       "<polygon fill=\"#fae8dc\" stroke=\"black\" points=\"209,-157 0,-157 0,-89 209,-89 209,-157\"/>\r\n",
       "<text text-anchor=\"middle\" x=\"104.5\" y=\"-141.8\" font-family=\"Times New Roman,serif\" font-size=\"14.00\">Logged_GDP_per_capita &lt;= 8.83</text>\r\n",
       "<text text-anchor=\"middle\" x=\"104.5\" y=\"-126.8\" font-family=\"Times New Roman,serif\" font-size=\"14.00\">mse = 2.73</text>\r\n",
       "<text text-anchor=\"middle\" x=\"104.5\" y=\"-111.8\" font-family=\"Times New Roman,serif\" font-size=\"14.00\">samples = 65</text>\r\n",
       "<text text-anchor=\"middle\" x=\"104.5\" y=\"-96.8\" font-family=\"Times New Roman,serif\" font-size=\"14.00\">value = 4.044</text>\r\n",
       "</g>\r\n",
       "<!-- 0&#45;&gt;1 -->\r\n",
       "<g id=\"edge1\" class=\"edge\"><title>0&#45;&gt;1</title>\r\n",
       "<path fill=\"none\" stroke=\"black\" d=\"M182.163,-192.884C171.819,-183.709 160.478,-173.65 149.736,-164.123\"/>\r\n",
       "<polygon fill=\"black\" stroke=\"black\" points=\"151.847,-161.317 142.043,-157.299 147.202,-166.553 151.847,-161.317\"/>\r\n",
       "<text text-anchor=\"middle\" x=\"143.538\" y=\"-178.555\" font-family=\"Times New Roman,serif\" font-size=\"14.00\">True</text>\r\n",
       "</g>\r\n",
       "<!-- 4 -->\r\n",
       "<g id=\"node5\" class=\"node\"><title>4</title>\r\n",
       "<polygon fill=\"#eeac7c\" stroke=\"black\" points=\"442,-157 227,-157 227,-89 442,-89 442,-157\"/>\r\n",
       "<text text-anchor=\"middle\" x=\"334.5\" y=\"-141.8\" font-family=\"Times New Roman,serif\" font-size=\"14.00\">Healthy_life_expectancy &lt;= 73.402</text>\r\n",
       "<text text-anchor=\"middle\" x=\"334.5\" y=\"-126.8\" font-family=\"Times New Roman,serif\" font-size=\"14.00\">mse = 3.487</text>\r\n",
       "<text text-anchor=\"middle\" x=\"334.5\" y=\"-111.8\" font-family=\"Times New Roman,serif\" font-size=\"14.00\">samples = 33</text>\r\n",
       "<text text-anchor=\"middle\" x=\"334.5\" y=\"-96.8\" font-family=\"Times New Roman,serif\" font-size=\"14.00\">value = 6.412</text>\r\n",
       "</g>\r\n",
       "<!-- 0&#45;&gt;4 -->\r\n",
       "<g id=\"edge4\" class=\"edge\"><title>0&#45;&gt;4</title>\r\n",
       "<path fill=\"none\" stroke=\"black\" d=\"M256.837,-192.884C267.181,-183.709 278.522,-173.65 289.264,-164.123\"/>\r\n",
       "<polygon fill=\"black\" stroke=\"black\" points=\"291.798,-166.553 296.957,-157.299 287.153,-161.317 291.798,-166.553\"/>\r\n",
       "<text text-anchor=\"middle\" x=\"295.462\" y=\"-178.555\" font-family=\"Times New Roman,serif\" font-size=\"14.00\">False</text>\r\n",
       "</g>\r\n",
       "<!-- 2 -->\r\n",
       "<g id=\"node3\" class=\"node\"><title>2</title>\r\n",
       "<polygon fill=\"#ffffff\" stroke=\"black\" points=\"100.5,-53 8.5,-53 8.5,-0 100.5,-0 100.5,-53\"/>\r\n",
       "<text text-anchor=\"middle\" x=\"54.5\" y=\"-37.8\" font-family=\"Times New Roman,serif\" font-size=\"14.00\">mse = 2.101</text>\r\n",
       "<text text-anchor=\"middle\" x=\"54.5\" y=\"-22.8\" font-family=\"Times New Roman,serif\" font-size=\"14.00\">samples = 30</text>\r\n",
       "<text text-anchor=\"middle\" x=\"54.5\" y=\"-7.8\" font-family=\"Times New Roman,serif\" font-size=\"14.00\">value = 3.165</text>\r\n",
       "</g>\r\n",
       "<!-- 1&#45;&gt;2 -->\r\n",
       "<g id=\"edge2\" class=\"edge\"><title>1&#45;&gt;2</title>\r\n",
       "<path fill=\"none\" stroke=\"black\" d=\"M87.0124,-88.9485C82.4142,-80.2579 77.4422,-70.8608 72.8025,-62.0917\"/>\r\n",
       "<polygon fill=\"black\" stroke=\"black\" points=\"75.8877,-60.4389 68.1173,-53.2367 69.7004,-63.7126 75.8877,-60.4389\"/>\r\n",
       "</g>\r\n",
       "<!-- 3 -->\r\n",
       "<g id=\"node4\" class=\"node\"><title>3</title>\r\n",
       "<polygon fill=\"#f6d5bd\" stroke=\"black\" points=\"210.5,-53 118.5,-53 118.5,-0 210.5,-0 210.5,-53\"/>\r\n",
       "<text text-anchor=\"middle\" x=\"164.5\" y=\"-37.8\" font-family=\"Times New Roman,serif\" font-size=\"14.00\">mse = 2.038</text>\r\n",
       "<text text-anchor=\"middle\" x=\"164.5\" y=\"-22.8\" font-family=\"Times New Roman,serif\" font-size=\"14.00\">samples = 35</text>\r\n",
       "<text text-anchor=\"middle\" x=\"164.5\" y=\"-7.8\" font-family=\"Times New Roman,serif\" font-size=\"14.00\">value = 4.797</text>\r\n",
       "</g>\r\n",
       "<!-- 1&#45;&gt;3 -->\r\n",
       "<g id=\"edge3\" class=\"edge\"><title>1&#45;&gt;3</title>\r\n",
       "<path fill=\"none\" stroke=\"black\" d=\"M125.485,-88.9485C131.061,-80.1664 137.095,-70.6629 142.713,-61.815\"/>\r\n",
       "<polygon fill=\"black\" stroke=\"black\" points=\"145.754,-63.5549 148.159,-53.2367 139.844,-59.8028 145.754,-63.5549\"/>\r\n",
       "</g>\r\n",
       "<!-- 5 -->\r\n",
       "<g id=\"node6\" class=\"node\"><title>5</title>\r\n",
       "<polygon fill=\"#f0b78e\" stroke=\"black\" points=\"350.5,-53 258.5,-53 258.5,-0 350.5,-0 350.5,-53\"/>\r\n",
       "<text text-anchor=\"middle\" x=\"304.5\" y=\"-37.8\" font-family=\"Times New Roman,serif\" font-size=\"14.00\">mse = 3.034</text>\r\n",
       "<text text-anchor=\"middle\" x=\"304.5\" y=\"-22.8\" font-family=\"Times New Roman,serif\" font-size=\"14.00\">samples = 26</text>\r\n",
       "<text text-anchor=\"middle\" x=\"304.5\" y=\"-7.8\" font-family=\"Times New Roman,serif\" font-size=\"14.00\">value = 5.964</text>\r\n",
       "</g>\r\n",
       "<!-- 4&#45;&gt;5 -->\r\n",
       "<g id=\"edge5\" class=\"edge\"><title>4&#45;&gt;5</title>\r\n",
       "<path fill=\"none\" stroke=\"black\" d=\"M324.007,-88.9485C321.336,-80.5323 318.454,-71.4536 315.746,-62.9243\"/>\r\n",
       "<polygon fill=\"black\" stroke=\"black\" points=\"319.032,-61.7089 312.67,-53.2367 312.36,-63.827 319.032,-61.7089\"/>\r\n",
       "</g>\r\n",
       "<!-- 6 -->\r\n",
       "<g id=\"node7\" class=\"node\"><title>6</title>\r\n",
       "<polygon fill=\"#e58139\" stroke=\"black\" points=\"460.5,-53 368.5,-53 368.5,-0 460.5,-0 460.5,-53\"/>\r\n",
       "<text text-anchor=\"middle\" x=\"414.5\" y=\"-37.8\" font-family=\"Times New Roman,serif\" font-size=\"14.00\">mse = 1.65</text>\r\n",
       "<text text-anchor=\"middle\" x=\"414.5\" y=\"-22.8\" font-family=\"Times New Roman,serif\" font-size=\"14.00\">samples = 7</text>\r\n",
       "<text text-anchor=\"middle\" x=\"414.5\" y=\"-7.8\" font-family=\"Times New Roman,serif\" font-size=\"14.00\">value = 8.077</text>\r\n",
       "</g>\r\n",
       "<!-- 4&#45;&gt;6 -->\r\n",
       "<g id=\"edge6\" class=\"edge\"><title>4&#45;&gt;6</title>\r\n",
       "<path fill=\"none\" stroke=\"black\" d=\"M362.48,-88.9485C370.147,-79.892 378.463,-70.0682 386.151,-60.9875\"/>\r\n",
       "<polygon fill=\"black\" stroke=\"black\" points=\"388.922,-63.1305 392.712,-53.2367 383.58,-58.6076 388.922,-63.1305\"/>\r\n",
       "</g>\r\n",
       "</g>\r\n",
       "</svg>\r\n"
      ],
      "text/plain": [
       "<graphviz.files.Source at 0x249adfa3b08>"
      ]
     },
     "execution_count": 40,
     "metadata": {},
     "output_type": "execute_result"
    }
   ],
   "source": [
    "from sklearn import tree\n",
    "dot_data = tree.export_graphviz(regressor, feature_names=list(X), class_names=sorted(Y['log_num_max_increase'].unique()), filled=True)\n",
    "graphviz.Source(dot_data)"
   ]
  }
 ],
 "metadata": {
  "colab": {
   "authorship_tag": "ABX9TyPm1HIr40GNDms/MX489O/2",
   "collapsed_sections": [],
   "name": "Models.ipynb",
   "provenance": []
  },
  "kernelspec": {
   "display_name": "Python 3",
   "language": "python",
   "name": "python3"
  },
  "language_info": {
   "codemirror_mode": {
    "name": "ipython",
    "version": 3
   },
   "file_extension": ".py",
   "mimetype": "text/x-python",
   "name": "python",
   "nbconvert_exporter": "python",
   "pygments_lexer": "ipython3",
   "version": "3.7.4"
  }
 },
 "nbformat": 4,
 "nbformat_minor": 1
}
